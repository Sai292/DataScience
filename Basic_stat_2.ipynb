{
 "cells": [
  {
   "cell_type": "code",
   "execution_count": 2,
   "id": "bc3e1a2e-9c79-4f8f-89fe-02a8f95f59ba",
   "metadata": {},
   "outputs": [],
   "source": [
    "#importing numpy and stats librayies\n",
    "import numpy as np\n",
    "import scipy.stats as stats"
   ]
  },
  {
   "cell_type": "code",
   "execution_count": 3,
   "id": "c6f41b14-6956-492c-a7de-b660923fc4c9",
   "metadata": {},
   "outputs": [],
   "source": [
    "# Sample data\n",
    "data = [1.13, 1.55, 1.43, 0.92, 1.25, 1.36, 1.32, 0.85, 1.07, 1.48, 1.20, 1.33, 1.18, 1.22, 1.29]"
   ]
  },
  {
   "cell_type": "markdown",
   "id": "b4f8d106-4329-495b-b048-2fea0bb6c4b8",
   "metadata": {},
   "source": [
    "### Build 99% Confidence Interval Using Sample Standard Deviation\n",
    "#### Using the t-distribution."
   ]
  },
  {
   "cell_type": "code",
   "execution_count": 12,
   "id": "1bd02899-5e3c-4581-8b88-9ac92bfe5cd0",
   "metadata": {},
   "outputs": [
    {
     "name": "stdout",
     "output_type": "stream",
     "text": [
      "Sample_mean: 1.24 \n",
      "Sample_std: 0.5 \n",
      "Sample_size: 15\n"
     ]
    }
   ],
   "source": [
    "# Calculating the Sample mean and Sample standard deviation\n",
    "sample_mean = round(np.mean(data),2)\n",
    "sample_std = 0.5 # assuming 0.5 value\n",
    "sample_size = len(data)\n",
    "print(\"Sample_mean:\",sample_mean,\"\\nSample_std:\",sample_std,\"\\nSample_size:\",sample_size)"
   ]
  },
  {
   "cell_type": "code",
   "execution_count": 9,
   "id": "729bb799-b236-4430-b34e-20d1360293ec",
   "metadata": {},
   "outputs": [
    {
     "name": "stdout",
     "output_type": "stream",
     "text": [
      "Alpha: 0.01\n"
     ]
    }
   ],
   "source": [
    "# Confidence Level\n",
    "confident_level = 0.99\n",
    "alpha = round((1 - confident_level),2)\n",
    "print(\"Alpha:\",alpha)"
   ]
  },
  {
   "cell_type": "code",
   "execution_count": 10,
   "id": "d937fd05-36e9-4a2c-a5fe-540dd0000dcc",
   "metadata": {},
   "outputs": [
    {
     "name": "stdout",
     "output_type": "stream",
     "text": [
      "Degree of Freedom: 14 \n",
      "Critical_value: 2.97684273411266\n"
     ]
    }
   ],
   "source": [
    "# Calculating the critical value for a 99% confident interval\n",
    "degree_freedom = sample_size -1\n",
    "critical_value = stats.t.ppf(1 - alpha / 2, degree_freedom)\n",
    "print(\"Degree of Freedom:\",degree_freedom,\"\\nCritical_value:\",critical_value)"
   ]
  },
  {
   "cell_type": "code",
   "execution_count": 14,
   "id": "0e61e56d-0c12-4cf3-a7b8-94fef06cd2e0",
   "metadata": {},
   "outputs": [
    {
     "name": "stdout",
     "output_type": "stream",
     "text": [
      "Standard_error: 0.12909944487358055\n"
     ]
    }
   ],
   "source": [
    "# Calculate Standard Error \n",
    "standard_error = sample_std/np.sqrt(sample_size)\n",
    "print(\"Standard_error:\",standard_error)"
   ]
  },
  {
   "cell_type": "code",
   "execution_count": 15,
   "id": "b00f81c0-588d-42f4-9e01-7eeca9968d43",
   "metadata": {},
   "outputs": [
    {
     "name": "stdout",
     "output_type": "stream",
     "text": [
      "Margin_error: 0.38\n"
     ]
    }
   ],
   "source": [
    "# Calculate margin error\n",
    "margin_error = round(critical_value * standard_error,2)\n",
    "print(\"Margin_error:\",margin_error)"
   ]
  },
  {
   "cell_type": "code",
   "execution_count": 16,
   "id": "520cfad1-c2fd-4a58-92b1-651f009c0639",
   "metadata": {},
   "outputs": [
    {
     "name": "stdout",
     "output_type": "stream",
     "text": [
      "Confidenc_Interval: (0.86, 1.62)\n"
     ]
    }
   ],
   "source": [
    "# Constructing Confidence Interval\n",
    "\n",
    "confidence_interval = (sample_mean - margin_error, sample_mean + margin_error)\n",
    "print(\"Confidenc_Interval:\",confidence_interval)"
   ]
  },
  {
   "cell_type": "code",
   "execution_count": 70,
   "id": "a611fa6c-12d5-405e-bf34-4469ef110339",
   "metadata": {},
   "outputs": [
    {
     "name": "stdout",
     "output_type": "stream",
     "text": [
      "Sample Mean: 1.24\n",
      "Sample Standard Deviation: 0.5\n",
      "Sample Size: 15\n",
      "Standard Error: 0.1291\n",
      "Degrees of Freedom: 14\n",
      "Critical Value (t): 2.9768\n",
      "Margin of Error: 0.3800\n",
      "99% Confidence Interval: (0.86, 1.62)\n"
     ]
    }
   ],
   "source": [
    "print(f\"Sample Mean: {sample_mean}\")\n",
    "print(f\"Sample Standard Deviation: {sample_std}\")\n",
    "print(f\"Sample Size: {sample_size}\")\n",
    "print(f\"Standard Error: {standard_error:.4f}\")\n",
    "print(f\"Degrees of Freedom: {degree_freedom}\")\n",
    "print(f\"Critical Value (t): {critical_value:.4f}\")\n",
    "print(f\"Margin of Error: {margin_error:.4f}\")\n",
    "print(f\"99% Confidence Interval: {confidence_interval}\")"
   ]
  },
  {
   "cell_type": "markdown",
   "id": "cb84db34-780b-4d22-9d55-0d281f5173e2",
   "metadata": {},
   "source": [
    "### Build 99% Confidence Interval Using Known Population Standard Deviation\n",
    "#### Using the Z-distribution (normal distribution)."
   ]
  },
  {
   "cell_type": "code",
   "execution_count": 49,
   "id": "e0f25542-af7c-4f69-a2e4-3825c0b066a7",
   "metadata": {},
   "outputs": [
    {
     "data": {
      "text/plain": [
       "(1.2387, 0.5, 15)"
      ]
     },
     "execution_count": 49,
     "metadata": {},
     "output_type": "execute_result"
    }
   ],
   "source": [
    "# Calculating the Sample mean and Sample standard deviation\n",
    "sample_mean = round(np.mean(data),4)\n",
    "sample_std1 = 0.2 # assuming 0.5 value\n",
    "sample_size = len(data)\n",
    "sample_mean,sample_std,sample_size"
   ]
  },
  {
   "cell_type": "code",
   "execution_count": 58,
   "id": "80ccde63-be0b-444b-a3c5-c3a1e7c3ad4b",
   "metadata": {},
   "outputs": [],
   "source": [
    "# Confidence Level\n",
    "confident_level = 0.99\n",
    "alpha = 1 - confident_level\n",
    "\n",
    "# Calculating the critical value for a 99% confident interval\n",
    "degree_freedom = sample_size -1\n",
    "critical_value = stats.t.ppf(1 - alpha / 2, degree_freedom)\n",
    "\n",
    "# Calculate Standard Error \n",
    "standard_error = sample_std1/np.sqrt(sample_size)\n",
    "\n",
    "# Calculate margin error\n",
    "margin_error = round(critical_value * standard_error,4)\n",
    "\n",
    "# Constructing Confidence Interval\n",
    "confidence_interval = (sample_mean - margin_error, sample_mean + margin_error)"
   ]
  },
  {
   "cell_type": "code",
   "execution_count": 59,
   "id": "5c6d42a4-5dfc-4f69-8b69-40462e09385b",
   "metadata": {},
   "outputs": [
    {
     "name": "stdout",
     "output_type": "stream",
     "text": [
      "Sample Mean: 1.2387\n",
      "Sample Standard Deviation: 0.2\n",
      "Sample Size: 15\n",
      "Standard Error: 0.0516\n",
      "Degrees of Freedom: 14\n",
      "Critical Value (t): 2.9768\n",
      "Margin of Error: 0.1537\n",
      "99% Confidence Interval: (1.085, 1.3923999999999999)\n"
     ]
    }
   ],
   "source": [
    "print(f\"Sample Mean: {sample_mean}\")\n",
    "print(f\"Sample Standard Deviation: {sample_std1}\")\n",
    "print(f\"Sample Size: {sample_size}\")\n",
    "print(f\"Standard Error: {standard_error:.4f}\")\n",
    "print(f\"Degrees of Freedom: {degree_freedom}\")\n",
    "print(f\"Critical Value (t): {critical_value:.4f}\")\n",
    "print(f\"Margin of Error: {margin_error:.4f}\")\n",
    "print(f\"99% Confidence Interval: {confidence_interval}\")"
   ]
  },
  {
   "cell_type": "markdown",
   "id": "74754148-13b9-4dee-9607-c8e96a1ee7ed",
   "metadata": {},
   "source": [
    "#### A confidence interval provides a range within which we expect the true population parameter to lie,based on our sample data.\n",
    "#### This range helps quantify the uncertainty around our sample estimate and supports better decision-making in data science."
   ]
  },
  {
   "cell_type": "markdown",
   "id": "7417052c-9e5f-43ff-ae7d-52ca942c48ce",
   "metadata": {},
   "source": [
    "### Summary\n",
    "#### > Using Sample Standard Deviation (t-distribution):\n",
    "#### -- Confidence Interval: (0.86, 1.62)\n",
    "#### > Using Known Population Standard Deviation (z-distribution):\n",
    "#### -- Confidence Interval: (1.085, 1.39239)"
   ]
  },
  {
   "cell_type": "code",
   "execution_count": null,
   "id": "cbfd4024-5b78-4343-ab59-caab04d5adaf",
   "metadata": {},
   "outputs": [],
   "source": []
  }
 ],
 "metadata": {
  "kernelspec": {
   "display_name": "Python 3 (ipykernel)",
   "language": "python",
   "name": "python3"
  },
  "language_info": {
   "codemirror_mode": {
    "name": "ipython",
    "version": 3
   },
   "file_extension": ".py",
   "mimetype": "text/x-python",
   "name": "python",
   "nbconvert_exporter": "python",
   "pygments_lexer": "ipython3",
   "version": "3.11.7"
  }
 },
 "nbformat": 4,
 "nbformat_minor": 5
}
