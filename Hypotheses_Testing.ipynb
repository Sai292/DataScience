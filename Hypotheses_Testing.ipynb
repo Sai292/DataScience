{
 "cells": [
  {
   "cell_type": "markdown",
   "id": "ba78b890-179f-4f90-b413-b255592a295f",
   "metadata": {},
   "source": [
    "## 1. State the Hypotheses Statement:\n",
    "### To investigate the restaurant owners' claim about the increase in weekly operating costs, we need to formulate the null and alternative hypotheses:\n",
    "\n",
    "### Null Hypothesis (H₀): The theoretical weekly operating cost model is accurate.\n",
    "\n",
    "### H₀ : u = 1000 + 5X\n",
    "\n",
    "### Alternative Hypothesis (H₁): The theoretical weekly operating cost model is not accurate, and the actual weekly operating costs are higher.\n",
    "    \n",
    "### H1 : u > 1000 + 5X"
   ]
  },
  {
   "cell_type": "markdown",
   "id": "9a59dd60-969c-4261-833e-6475070dbd22",
   "metadata": {},
   "source": [
    "## 2. Calculate the Test Statistic:"
   ]
  },
  {
   "cell_type": "code",
   "execution_count": 2,
   "id": "7f9e0be3-ee0f-42ec-88d3-f82eb118dc2b",
   "metadata": {},
   "outputs": [
    {
     "name": "stdout",
     "output_type": "stream",
     "text": [
      "Sample_mean: 3050 \n",
      "X_mean: 600 \n",
      "X_std: 25 \n",
      "Sample Size(n): 25 \n",
      "W_mean: 4000\n"
     ]
    }
   ],
   "source": [
    "import scipy.stats as stats\n",
    "import numpy as np\n",
    "\n",
    "# Given Data\n",
    "sample_mean = 3050 # sample mean weekly cost\n",
    "X_mean = 600 # mean units produced per week\n",
    "X_std = 25 # standard deviation of units produced per weeek\n",
    "n = 25 # sample size\n",
    "\n",
    "# Calculating the mean of weekly cost\n",
    "W_mean = 1000 + 5 * X_mean\n",
    "print(\"Sample_mean:\",sample_mean,\"\\nX_mean:\", X_mean,\"\\nX_std:\",X_std,\"\\nSample Size(n):\",n,\"\\nW_mean:\",W_mean)"
   ]
  },
  {
   "cell_type": "code",
   "execution_count": 3,
   "id": "ae5b5f66-e1c0-4045-ac57-35555530535c",
   "metadata": {},
   "outputs": [
    {
     "name": "stdout",
     "output_type": "stream",
     "text": [
      "cost_std: 125\n"
     ]
    }
   ],
   "source": [
    "# Calculate the standard deviation of the weekly operating costs\n",
    "cost_std = 5 * X_std\n",
    "print(\"cost_std:\",cost_std)"
   ]
  },
  {
   "cell_type": "code",
   "execution_count": 4,
   "id": "fffc5a01-a220-4587-b8f3-fef902a10f20",
   "metadata": {},
   "outputs": [
    {
     "name": "stdout",
     "output_type": "stream",
     "text": [
      "Test_Statistic: -38.0\n"
     ]
    }
   ],
   "source": [
    "# Calculate the Test Statistic\n",
    "test_stat = (sample_mean-W_mean) / (cost_std / np.sqrt(n))\n",
    "print(\"Test_Statistic:\",test_stat)"
   ]
  },
  {
   "cell_type": "markdown",
   "id": "700d063b-73aa-44f7-8999-1404e6500a72",
   "metadata": {},
   "source": [
    "## 3. Determine the Critical Value:"
   ]
  },
  {
   "cell_type": "code",
   "execution_count": 8,
   "id": "50449bb9-c4ea-42ec-a011-1c3e9baa681a",
   "metadata": {},
   "outputs": [
    {
     "name": "stdout",
     "output_type": "stream",
     "text": [
      "Critical_value: -1.6448536269514722\n"
     ]
    }
   ],
   "source": [
    "# Determine the critical value for a one-tailed test at alpha = 0.05\n",
    "alpha = 0.05\n",
    "critical_value = -stats.norm.ppf(1 - alpha)\n",
    "print(\"Critical_value:\",critical_value)"
   ]
  },
  {
   "cell_type": "code",
   "execution_count": 11,
   "id": "5b429ad8-1b68-4021-b90c-bc31331c962d",
   "metadata": {},
   "outputs": [
    {
     "name": "stdout",
     "output_type": "stream",
     "text": [
      "Reject the null hypothesis: There is strong evidence to support the claim that the weekly operating costs are higher than the model suggests.\n"
     ]
    }
   ],
   "source": [
    "if test_stat < critical_value:\n",
    "    print(\"Reject the null hypothesis: There is strong evidence to support the claim that the weekly operating costs are higher than the model suggests.\")\n",
    "else:\n",
    "    print(\"Fail to reject the null hypothesis: There is not enough evidence to support the claim that the weekly operating costs are higher than the model suggests.\")"
   ]
  },
  {
   "cell_type": "markdown",
   "id": "68552a12-9764-4e84-bacd-f9f034c0bbe0",
   "metadata": {},
   "source": [
    "## Compare the test statistic with the critical value:\n",
    "\n",
    "### If t < -1.645, we reject the null hypothesis.\n",
    "### Since 𝑡 = −38\n",
    "### which is much less than -1.645, we reject the null hypothesis."
   ]
  },
  {
   "cell_type": "markdown",
   "id": "2d1493c2-f4a1-40ff-a9da-09bd9690e265",
   "metadata": {},
   "source": [
    "## 5. Conclusion:\n",
    "### Based on the decision in step 4, there is strong evidence to support the restaurant owners\n",
    "### ' claim that the weekly operating costs are higher than the model suggests."
   ]
  },
  {
   "cell_type": "code",
   "execution_count": null,
   "id": "55da5ced-1e61-4a74-bff6-ede16e04d8a2",
   "metadata": {},
   "outputs": [],
   "source": []
  },
  {
   "cell_type": "markdown",
   "id": "7cb7a600-4da3-4d8c-99f9-9ee4df4322fd",
   "metadata": {},
   "source": [
    "# Chisquare Test"
   ]
  },
  {
   "cell_type": "markdown",
   "id": "5ffbb058-e6e8-4123-8476-1e2ca0ed0afb",
   "metadata": {},
   "source": [
    "## 1.Statement of Hypothesis\n",
    "### H₀: There is no significant association between the type of smart home device purchased and the customer satisfaction level.\n",
    "### H₁: There is a significant association between the type of smart home device purchased and the customer satisfaction level."
   ]
  },
  {
   "cell_type": "code",
   "execution_count": 17,
   "id": "86d839cc-bd0c-4cad-b886-e9ff7abb8ed3",
   "metadata": {},
   "outputs": [
    {
     "data": {
      "text/plain": [
       "array([[ 50,  70],\n",
       "       [ 80, 100],\n",
       "       [ 60,  90],\n",
       "       [ 30,  50],\n",
       "       [ 20,  50]])"
      ]
     },
     "execution_count": 17,
     "metadata": {},
     "output_type": "execute_result"
    }
   ],
   "source": [
    "import numpy as np\n",
    "import scipy.stats as stats\n",
    "\n",
    "# Observed Frequencies\n",
    "observed = np.array([\n",
    "    [50,70],\n",
    "    [80,100],\n",
    "    [60,90],\n",
    "    [30,50],\n",
    "    [20,50]])\n",
    "observed"
   ]
  },
  {
   "cell_type": "code",
   "execution_count": 20,
   "id": "d1b11642-11ad-4c08-a1c0-ab1231e91176",
   "metadata": {},
   "outputs": [
    {
     "name": "stdout",
     "output_type": "stream",
     "text": [
      "Row-Total: [120 180 150  80  70] \n",
      "Col-Total: [240 360] \n",
      "Total: 600\n"
     ]
    }
   ],
   "source": [
    "# Margin total\n",
    "row_total =  np.sum(observed, axis =1)\n",
    "col_total = np.sum(observed, axis = 0)\n",
    "Total = np.sum(observed)\n",
    "\n",
    "print(\"Row-Total:\",row_total,\"\\nCol-Total:\",col_total,\"\\nTotal:\",Total)"
   ]
  },
  {
   "cell_type": "code",
   "execution_count": 21,
   "id": "424368c6-45b7-4332-804f-c57ba8118b7c",
   "metadata": {},
   "outputs": [
    {
     "data": {
      "text/plain": [
       "array([[ 48.,  72.],\n",
       "       [ 72., 108.],\n",
       "       [ 60.,  90.],\n",
       "       [ 32.,  48.],\n",
       "       [ 28.,  42.]])"
      ]
     },
     "execution_count": 21,
     "metadata": {},
     "output_type": "execute_result"
    }
   ],
   "source": [
    "# Expected frequencies\n",
    "expected = np.outer(row_total, col_total) / Total\n",
    "expected"
   ]
  },
  {
   "cell_type": "markdown",
   "id": "52d656d5-1717-4017-908f-43741dfb19c2",
   "metadata": {},
   "source": [
    "## 2. Compute the Chi-Square Statistic:"
   ]
  },
  {
   "cell_type": "code",
   "execution_count": 22,
   "id": "20ab9262-9d4e-4b98-8b8f-06a91b1d7f93",
   "metadata": {},
   "outputs": [
    {
     "name": "stdout",
     "output_type": "stream",
     "text": [
      "Chi_Square_Value: 5.638227513227513\n"
     ]
    }
   ],
   "source": [
    "# Chi-Square Statistic\n",
    "\n",
    "chi_square_test = np.sum((observed - expected)**2 / expected)\n",
    "\n",
    "print(\"Chi_Square_Value:\",chi_square_test)"
   ]
  },
  {
   "cell_type": "markdown",
   "id": "1d2bca39-b773-4e41-91b7-aeec545a174f",
   "metadata": {},
   "source": [
    "## 3. Determine the Critical Value:"
   ]
  },
  {
   "cell_type": "code",
   "execution_count": 24,
   "id": "7db8f654-9b46-410e-8eae-ad0e0310c312",
   "metadata": {},
   "outputs": [
    {
     "name": "stdout",
     "output_type": "stream",
     "text": [
      "Degree Of Freedom: 4 \n",
      "Critical_value: 9.487729036781154\n"
     ]
    }
   ],
   "source": [
    "# Degree of Freedom \n",
    "df = (observed.shape[0]-1) * (observed.shape[1] -1)\n",
    "\n",
    "# Critical value at 0.05 significance level\n",
    "alpha = 0.05\n",
    "critical_value = stats.chi2.ppf(1-alpha,df)\n",
    "\n",
    "print(\"Degree Of Freedom:\",df,\"\\nCritical_value:\",critical_value)"
   ]
  },
  {
   "cell_type": "markdown",
   "id": "ff14ee95-08ea-4871-86f3-8bfc88c94542",
   "metadata": {},
   "source": [
    "## Decision"
   ]
  },
  {
   "cell_type": "markdown",
   "id": "de1e9fc4-ba7a-4bad-9870-56728af01a44",
   "metadata": {},
   "source": [
    "### Since the Chi-Square statistic (5.638) is less than the critical value (9.488), we fail to reject the null hypothesis."
   ]
  },
  {
   "cell_type": "code",
   "execution_count": null,
   "id": "ee30682d-465d-418c-a3ca-530850ff0172",
   "metadata": {},
   "outputs": [],
   "source": []
  }
 ],
 "metadata": {
  "kernelspec": {
   "display_name": "Python 3 (ipykernel)",
   "language": "python",
   "name": "python3"
  },
  "language_info": {
   "codemirror_mode": {
    "name": "ipython",
    "version": 3
   },
   "file_extension": ".py",
   "mimetype": "text/x-python",
   "name": "python",
   "nbconvert_exporter": "python",
   "pygments_lexer": "ipython3",
   "version": "3.11.7"
  }
 },
 "nbformat": 4,
 "nbformat_minor": 5
}
