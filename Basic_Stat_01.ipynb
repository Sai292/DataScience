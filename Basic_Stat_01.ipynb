{
 "cells": [
  {
   "cell_type": "markdown",
   "id": "8041d060-cc44-466b-8c52-a672dc37e565",
   "metadata": {},
   "source": [
    "## Basic Of Statistic Assignement 1\n",
    "### Descriptive Analytics and Data Preprocessing on Sales & Discounts Dataset"
   ]
  },
  {
   "cell_type": "markdown",
   "id": "c1957c44-8d9b-47f8-b102-9f35da38e7c2",
   "metadata": {},
   "source": [
    "#### Descriptive Analytics for Numerical Columns"
   ]
  },
  {
   "cell_type": "code",
   "execution_count": null,
   "id": "40ca36e8-e438-46b5-b0bc-0aa9c248d0bf",
   "metadata": {},
   "outputs": [],
   "source": []
  },
  {
   "cell_type": "code",
   "execution_count": 1,
   "id": "bb4318a2-0945-454c-927c-d05d8b206d89",
   "metadata": {},
   "outputs": [],
   "source": [
    "# Importing pandas , numpy, matplotlib and seaborn library\n",
    "import pandas as pd\n",
    "import numpy as np\n",
    "import matplotlib.pyplot as plt\n",
    "import seaborn as sns"
   ]
  },
  {
   "cell_type": "code",
   "execution_count": null,
   "id": "21a0417f-19dd-48fc-abad-d0ca200e5e82",
   "metadata": {},
   "outputs": [],
   "source": []
  },
  {
   "cell_type": "code",
   "execution_count": 2,
   "id": "f1712b13-89b8-4ff6-8aef-e2b0a0e1d432",
   "metadata": {},
   "outputs": [
    {
     "data": {
      "text/html": [
       "<div>\n",
       "<style scoped>\n",
       "    .dataframe tbody tr th:only-of-type {\n",
       "        vertical-align: middle;\n",
       "    }\n",
       "\n",
       "    .dataframe tbody tr th {\n",
       "        vertical-align: top;\n",
       "    }\n",
       "\n",
       "    .dataframe thead th {\n",
       "        text-align: right;\n",
       "    }\n",
       "</style>\n",
       "<table border=\"1\" class=\"dataframe\">\n",
       "  <thead>\n",
       "    <tr style=\"text-align: right;\">\n",
       "      <th></th>\n",
       "      <th>Date</th>\n",
       "      <th>Day</th>\n",
       "      <th>SKU</th>\n",
       "      <th>City</th>\n",
       "      <th>Volume</th>\n",
       "      <th>BU</th>\n",
       "      <th>Brand</th>\n",
       "      <th>Model</th>\n",
       "      <th>Avg Price</th>\n",
       "      <th>Total Sales Value</th>\n",
       "      <th>Discount Rate (%)</th>\n",
       "      <th>Discount Amount</th>\n",
       "      <th>Net Sales Value</th>\n",
       "    </tr>\n",
       "  </thead>\n",
       "  <tbody>\n",
       "    <tr>\n",
       "      <th>0</th>\n",
       "      <td>01-04-2021</td>\n",
       "      <td>Thursday</td>\n",
       "      <td>M01</td>\n",
       "      <td>C</td>\n",
       "      <td>15</td>\n",
       "      <td>Mobiles</td>\n",
       "      <td>RealU</td>\n",
       "      <td>RU-10</td>\n",
       "      <td>12100</td>\n",
       "      <td>181500</td>\n",
       "      <td>11.654820</td>\n",
       "      <td>21153.498820</td>\n",
       "      <td>160346.501180</td>\n",
       "    </tr>\n",
       "    <tr>\n",
       "      <th>1</th>\n",
       "      <td>01-04-2021</td>\n",
       "      <td>Thursday</td>\n",
       "      <td>M02</td>\n",
       "      <td>C</td>\n",
       "      <td>10</td>\n",
       "      <td>Mobiles</td>\n",
       "      <td>RealU</td>\n",
       "      <td>RU-9 Plus</td>\n",
       "      <td>10100</td>\n",
       "      <td>101000</td>\n",
       "      <td>11.560498</td>\n",
       "      <td>11676.102961</td>\n",
       "      <td>89323.897039</td>\n",
       "    </tr>\n",
       "    <tr>\n",
       "      <th>2</th>\n",
       "      <td>01-04-2021</td>\n",
       "      <td>Thursday</td>\n",
       "      <td>M03</td>\n",
       "      <td>C</td>\n",
       "      <td>7</td>\n",
       "      <td>Mobiles</td>\n",
       "      <td>YouM</td>\n",
       "      <td>YM-99</td>\n",
       "      <td>16100</td>\n",
       "      <td>112700</td>\n",
       "      <td>9.456886</td>\n",
       "      <td>10657.910157</td>\n",
       "      <td>102042.089843</td>\n",
       "    </tr>\n",
       "    <tr>\n",
       "      <th>3</th>\n",
       "      <td>01-04-2021</td>\n",
       "      <td>Thursday</td>\n",
       "      <td>M04</td>\n",
       "      <td>C</td>\n",
       "      <td>6</td>\n",
       "      <td>Mobiles</td>\n",
       "      <td>YouM</td>\n",
       "      <td>YM-99 Plus</td>\n",
       "      <td>20100</td>\n",
       "      <td>120600</td>\n",
       "      <td>6.935385</td>\n",
       "      <td>8364.074702</td>\n",
       "      <td>112235.925298</td>\n",
       "    </tr>\n",
       "    <tr>\n",
       "      <th>4</th>\n",
       "      <td>01-04-2021</td>\n",
       "      <td>Thursday</td>\n",
       "      <td>M05</td>\n",
       "      <td>C</td>\n",
       "      <td>3</td>\n",
       "      <td>Mobiles</td>\n",
       "      <td>YouM</td>\n",
       "      <td>YM-98</td>\n",
       "      <td>8100</td>\n",
       "      <td>24300</td>\n",
       "      <td>17.995663</td>\n",
       "      <td>4372.946230</td>\n",
       "      <td>19927.053770</td>\n",
       "    </tr>\n",
       "  </tbody>\n",
       "</table>\n",
       "</div>"
      ],
      "text/plain": [
       "         Date       Day  SKU City  Volume       BU  Brand       Model  \\\n",
       "0  01-04-2021  Thursday  M01    C      15  Mobiles  RealU       RU-10   \n",
       "1  01-04-2021  Thursday  M02    C      10  Mobiles  RealU   RU-9 Plus   \n",
       "2  01-04-2021  Thursday  M03    C       7  Mobiles   YouM       YM-99   \n",
       "3  01-04-2021  Thursday  M04    C       6  Mobiles   YouM  YM-99 Plus   \n",
       "4  01-04-2021  Thursday  M05    C       3  Mobiles   YouM      YM-98    \n",
       "\n",
       "   Avg Price  Total Sales Value  Discount Rate (%)  Discount Amount  \\\n",
       "0      12100             181500          11.654820     21153.498820   \n",
       "1      10100             101000          11.560498     11676.102961   \n",
       "2      16100             112700           9.456886     10657.910157   \n",
       "3      20100             120600           6.935385      8364.074702   \n",
       "4       8100              24300          17.995663      4372.946230   \n",
       "\n",
       "   Net Sales Value  \n",
       "0    160346.501180  \n",
       "1     89323.897039  \n",
       "2    102042.089843  \n",
       "3    112235.925298  \n",
       "4     19927.053770  "
      ]
     },
     "execution_count": 2,
     "metadata": {},
     "output_type": "execute_result"
    }
   ],
   "source": [
    "# Reading the sales and discount dataset given , by using pandas libray\n",
    "\n",
    "sales_data = pd.read_csv(r\"C:\\Users\\srtej\\Desktop\\Data_Science_ExcelR\\Assignments\\Basic stats - 1\\sales_data_with_discounts.csv\")\n",
    "sales_data.head()"
   ]
  },
  {
   "cell_type": "code",
   "execution_count": 3,
   "id": "d60797cb-81a2-4a8a-8867-a4734b1d7330",
   "metadata": {},
   "outputs": [
    {
     "data": {
      "text/plain": [
       "(450, 13)"
      ]
     },
     "execution_count": 3,
     "metadata": {},
     "output_type": "execute_result"
    }
   ],
   "source": [
    "# Checking for no of rows and column..\n",
    "\n",
    "sales_data.shape"
   ]
  },
  {
   "cell_type": "code",
   "execution_count": 4,
   "id": "0c25e15d-0c5b-4eb1-ba5b-39c2239b61dc",
   "metadata": {},
   "outputs": [
    {
     "data": {
      "text/plain": [
       "Date                 0\n",
       "Day                  0\n",
       "SKU                  0\n",
       "City                 0\n",
       "Volume               0\n",
       "BU                   0\n",
       "Brand                0\n",
       "Model                0\n",
       "Avg Price            0\n",
       "Total Sales Value    0\n",
       "Discount Rate (%)    0\n",
       "Discount Amount      0\n",
       "Net Sales Value      0\n",
       "dtype: int64"
      ]
     },
     "execution_count": 4,
     "metadata": {},
     "output_type": "execute_result"
    }
   ],
   "source": [
    "# Checking the missing values \n",
    "\n",
    "sales_data.isnull().sum()"
   ]
  },
  {
   "cell_type": "markdown",
   "id": "7d9e2bf0-a7c4-4d66-964f-773d84b93516",
   "metadata": {},
   "source": [
    "### By the above output concluding that there is no Missing values"
   ]
  },
  {
   "cell_type": "code",
   "execution_count": 5,
   "id": "e413502a-bb92-4f0e-8a5f-c819c65f87b0",
   "metadata": {},
   "outputs": [
    {
     "name": "stdout",
     "output_type": "stream",
     "text": [
      "<class 'pandas.core.frame.DataFrame'>\n",
      "RangeIndex: 450 entries, 0 to 449\n",
      "Data columns (total 13 columns):\n",
      " #   Column             Non-Null Count  Dtype  \n",
      "---  ------             --------------  -----  \n",
      " 0   Date               450 non-null    object \n",
      " 1   Day                450 non-null    object \n",
      " 2   SKU                450 non-null    object \n",
      " 3   City               450 non-null    object \n",
      " 4   Volume             450 non-null    int64  \n",
      " 5   BU                 450 non-null    object \n",
      " 6   Brand              450 non-null    object \n",
      " 7   Model              450 non-null    object \n",
      " 8   Avg Price          450 non-null    int64  \n",
      " 9   Total Sales Value  450 non-null    int64  \n",
      " 10  Discount Rate (%)  450 non-null    float64\n",
      " 11  Discount Amount    450 non-null    float64\n",
      " 12  Net Sales Value    450 non-null    float64\n",
      "dtypes: float64(3), int64(3), object(7)\n",
      "memory usage: 45.8+ KB\n"
     ]
    }
   ],
   "source": [
    "# Checking the complete information like no of rows and column,data types and index value of the given data set\n",
    "\n",
    "sales_data.info()"
   ]
  },
  {
   "cell_type": "markdown",
   "id": "a6cae2ec-3489-48f2-b019-3e3bbc5d0af3",
   "metadata": {},
   "source": [
    "### Checking the data types and changing the data types based on the data in the column"
   ]
  },
  {
   "cell_type": "code",
   "execution_count": 6,
   "id": "63187a9b-0a7d-44d2-aaf6-de8488924aae",
   "metadata": {
    "scrolled": true
   },
   "outputs": [
    {
     "data": {
      "text/plain": [
       "Date                  object\n",
       "Day                   object\n",
       "SKU                   object\n",
       "City                  object\n",
       "Volume                 int64\n",
       "BU                    object\n",
       "Brand                 object\n",
       "Model                 object\n",
       "Avg Price              int64\n",
       "Total Sales Value      int64\n",
       "Discount Rate (%)    float64\n",
       "Discount Amount      float64\n",
       "Net Sales Value      float64\n",
       "dtype: object"
      ]
     },
     "execution_count": 6,
     "metadata": {},
     "output_type": "execute_result"
    }
   ],
   "source": [
    "sales_data.dtypes"
   ]
  },
  {
   "cell_type": "code",
   "execution_count": 7,
   "id": "d5cb9e52-210a-4eed-ae21-db6c64c3dc26",
   "metadata": {},
   "outputs": [],
   "source": [
    "sales_data['Date'] = pd.to_datetime(sales_data['Date'],format='mixed')"
   ]
  },
  {
   "cell_type": "code",
   "execution_count": 8,
   "id": "7ee92f93-788d-46b7-ad08-b0ad0a1c9585",
   "metadata": {
    "scrolled": true
   },
   "outputs": [
    {
     "data": {
      "text/plain": [
       "0     2021-01-04\n",
       "1     2021-01-04\n",
       "2     2021-01-04\n",
       "3     2021-01-04\n",
       "4     2021-01-04\n",
       "         ...    \n",
       "445   2021-04-15\n",
       "446   2021-04-15\n",
       "447   2021-04-15\n",
       "448   2021-04-15\n",
       "449   2021-04-15\n",
       "Name: Date, Length: 450, dtype: datetime64[ns]"
      ]
     },
     "execution_count": 8,
     "metadata": {},
     "output_type": "execute_result"
    }
   ],
   "source": [
    "sales_data['Date']"
   ]
  },
  {
   "cell_type": "code",
   "execution_count": 9,
   "id": "16e1c59d-b587-492c-afb1-5921aa22d1a8",
   "metadata": {
    "scrolled": true
   },
   "outputs": [
    {
     "data": {
      "text/plain": [
       "Index(['Date', 'Day', 'SKU', 'City', 'Volume', 'BU', 'Brand', 'Model',\n",
       "       'Avg Price', 'Total Sales Value', 'Discount Rate (%)',\n",
       "       'Discount Amount', 'Net Sales Value'],\n",
       "      dtype='object')"
      ]
     },
     "execution_count": 9,
     "metadata": {},
     "output_type": "execute_result"
    }
   ],
   "source": [
    "sales_data.columns"
   ]
  },
  {
   "cell_type": "markdown",
   "id": "959f71da-521d-4eba-b614-c58d4386b64b",
   "metadata": {},
   "source": [
    "#### Here numerical columns are Volume, Avg price, Total Sales Value, Discount Rate, Discount Amount and Net Sales Value"
   ]
  },
  {
   "cell_type": "code",
   "execution_count": 10,
   "id": "58cddf86-0284-4307-af0c-bb3cabf90fc4",
   "metadata": {},
   "outputs": [],
   "source": [
    "sales_data['Day'] = sales_data['Day'].astype('string')"
   ]
  },
  {
   "cell_type": "code",
   "execution_count": 11,
   "id": "11a04dc2-ca0b-4423-b2f0-2a2806ac4c5b",
   "metadata": {},
   "outputs": [],
   "source": [
    "sales_data['SKU'] = sales_data['SKU'].astype('string')\n",
    "sales_data['City'] = sales_data['City'].astype('string')\n",
    "sales_data['BU'] = sales_data['BU'].astype('string')\n",
    "sales_data['Brand'] = sales_data['Brand'].astype('string')\n",
    "sales_data['Model'] = sales_data['Model'].astype('string')"
   ]
  },
  {
   "cell_type": "code",
   "execution_count": 12,
   "id": "237001dd-e172-41d3-951c-64a20c6d7bfd",
   "metadata": {
    "scrolled": true
   },
   "outputs": [
    {
     "data": {
      "text/plain": [
       "Date                 datetime64[ns]\n",
       "Day                  string[python]\n",
       "SKU                  string[python]\n",
       "City                 string[python]\n",
       "Volume                        int64\n",
       "BU                   string[python]\n",
       "Brand                string[python]\n",
       "Model                string[python]\n",
       "Avg Price                     int64\n",
       "Total Sales Value             int64\n",
       "Discount Rate (%)           float64\n",
       "Discount Amount             float64\n",
       "Net Sales Value             float64\n",
       "dtype: object"
      ]
     },
     "execution_count": 12,
     "metadata": {},
     "output_type": "execute_result"
    }
   ],
   "source": [
    "sales_data.dtypes"
   ]
  },
  {
   "cell_type": "code",
   "execution_count": 13,
   "id": "40680242-ca42-4741-892c-c6fd848e4c9d",
   "metadata": {},
   "outputs": [],
   "source": [
    "# rename the columns name without any spcae in betweeen words \n",
    "columns = {'Avg Price':'Avg_Price',\n",
    "           'Total Sales Value':'Total_Sales_Values',\n",
    "           'Discount Rate (%)':'Discount_Rate_perct',\n",
    "           'Discount Amount':'Discount_Amount',\n",
    "           'Net Sales Value':'Net_Sales_Value'}\n",
    "sales_data.rename(columns =columns, inplace = True)"
   ]
  },
  {
   "cell_type": "markdown",
   "id": "28ce1353-4190-478e-872a-372e75389323",
   "metadata": {},
   "source": [
    "### Calculating the mean, median, mode and standarad Deviation"
   ]
  },
  {
   "cell_type": "code",
   "execution_count": 14,
   "id": "bc78d427-fb1b-4fd6-8884-bcd2a6e8a8a3",
   "metadata": {},
   "outputs": [
    {
     "data": {
      "text/html": [
       "<div>\n",
       "<style scoped>\n",
       "    .dataframe tbody tr th:only-of-type {\n",
       "        vertical-align: middle;\n",
       "    }\n",
       "\n",
       "    .dataframe tbody tr th {\n",
       "        vertical-align: top;\n",
       "    }\n",
       "\n",
       "    .dataframe thead th {\n",
       "        text-align: right;\n",
       "    }\n",
       "</style>\n",
       "<table border=\"1\" class=\"dataframe\">\n",
       "  <thead>\n",
       "    <tr style=\"text-align: right;\">\n",
       "      <th></th>\n",
       "      <th>Date</th>\n",
       "      <th>Volume</th>\n",
       "      <th>Avg_Price</th>\n",
       "      <th>Total_Sales_Values</th>\n",
       "      <th>Discount_Rate_perct</th>\n",
       "      <th>Discount_Amount</th>\n",
       "      <th>Net_Sales_Value</th>\n",
       "    </tr>\n",
       "  </thead>\n",
       "  <tbody>\n",
       "    <tr>\n",
       "      <th>count</th>\n",
       "      <td>450</td>\n",
       "      <td>450.000000</td>\n",
       "      <td>450.000000</td>\n",
       "      <td>450.000000</td>\n",
       "      <td>450.000000</td>\n",
       "      <td>450.000000</td>\n",
       "      <td>450.000000</td>\n",
       "    </tr>\n",
       "    <tr>\n",
       "      <th>mean</th>\n",
       "      <td>2021-06-06 04:48:00</td>\n",
       "      <td>5.066667</td>\n",
       "      <td>10453.433333</td>\n",
       "      <td>33812.835556</td>\n",
       "      <td>15.155242</td>\n",
       "      <td>3346.499424</td>\n",
       "      <td>30466.336131</td>\n",
       "    </tr>\n",
       "    <tr>\n",
       "      <th>min</th>\n",
       "      <td>2021-01-04 00:00:00</td>\n",
       "      <td>1.000000</td>\n",
       "      <td>290.000000</td>\n",
       "      <td>400.000000</td>\n",
       "      <td>5.007822</td>\n",
       "      <td>69.177942</td>\n",
       "      <td>326.974801</td>\n",
       "    </tr>\n",
       "    <tr>\n",
       "      <th>25%</th>\n",
       "      <td>2021-04-04 00:00:00</td>\n",
       "      <td>3.000000</td>\n",
       "      <td>465.000000</td>\n",
       "      <td>2700.000000</td>\n",
       "      <td>13.965063</td>\n",
       "      <td>460.459304</td>\n",
       "      <td>2202.208645</td>\n",
       "    </tr>\n",
       "    <tr>\n",
       "      <th>50%</th>\n",
       "      <td>2021-05-04 00:00:00</td>\n",
       "      <td>4.000000</td>\n",
       "      <td>1450.000000</td>\n",
       "      <td>5700.000000</td>\n",
       "      <td>16.577766</td>\n",
       "      <td>988.933733</td>\n",
       "      <td>4677.788059</td>\n",
       "    </tr>\n",
       "    <tr>\n",
       "      <th>75%</th>\n",
       "      <td>2021-09-04 00:00:00</td>\n",
       "      <td>6.000000</td>\n",
       "      <td>10100.000000</td>\n",
       "      <td>53200.000000</td>\n",
       "      <td>18.114718</td>\n",
       "      <td>5316.495427</td>\n",
       "      <td>47847.912852</td>\n",
       "    </tr>\n",
       "    <tr>\n",
       "      <th>max</th>\n",
       "      <td>2021-12-04 00:00:00</td>\n",
       "      <td>31.000000</td>\n",
       "      <td>60100.000000</td>\n",
       "      <td>196400.000000</td>\n",
       "      <td>19.992407</td>\n",
       "      <td>25738.022194</td>\n",
       "      <td>179507.479049</td>\n",
       "    </tr>\n",
       "    <tr>\n",
       "      <th>std</th>\n",
       "      <td>NaN</td>\n",
       "      <td>4.231602</td>\n",
       "      <td>18079.904840</td>\n",
       "      <td>50535.074173</td>\n",
       "      <td>4.220602</td>\n",
       "      <td>4509.902963</td>\n",
       "      <td>46358.656624</td>\n",
       "    </tr>\n",
       "  </tbody>\n",
       "</table>\n",
       "</div>"
      ],
      "text/plain": [
       "                      Date      Volume     Avg_Price  Total_Sales_Values  \\\n",
       "count                  450  450.000000    450.000000          450.000000   \n",
       "mean   2021-06-06 04:48:00    5.066667  10453.433333        33812.835556   \n",
       "min    2021-01-04 00:00:00    1.000000    290.000000          400.000000   \n",
       "25%    2021-04-04 00:00:00    3.000000    465.000000         2700.000000   \n",
       "50%    2021-05-04 00:00:00    4.000000   1450.000000         5700.000000   \n",
       "75%    2021-09-04 00:00:00    6.000000  10100.000000        53200.000000   \n",
       "max    2021-12-04 00:00:00   31.000000  60100.000000       196400.000000   \n",
       "std                    NaN    4.231602  18079.904840        50535.074173   \n",
       "\n",
       "       Discount_Rate_perct  Discount_Amount  Net_Sales_Value  \n",
       "count           450.000000       450.000000       450.000000  \n",
       "mean             15.155242      3346.499424     30466.336131  \n",
       "min               5.007822        69.177942       326.974801  \n",
       "25%              13.965063       460.459304      2202.208645  \n",
       "50%              16.577766       988.933733      4677.788059  \n",
       "75%              18.114718      5316.495427     47847.912852  \n",
       "max              19.992407     25738.022194    179507.479049  \n",
       "std               4.220602      4509.902963     46358.656624  "
      ]
     },
     "execution_count": 14,
     "metadata": {},
     "output_type": "execute_result"
    }
   ],
   "source": [
    "sales_data.describe()"
   ]
  },
  {
   "cell_type": "code",
   "execution_count": 15,
   "id": "36bbacbe-8846-4cd3-a248-3b3cfe11e67f",
   "metadata": {},
   "outputs": [
    {
     "data": {
      "text/plain": [
       "33812.83555555555"
      ]
     },
     "execution_count": 15,
     "metadata": {},
     "output_type": "execute_result"
    }
   ],
   "source": [
    "sales_data['Total_Sales_Values'].mean()"
   ]
  },
  {
   "cell_type": "code",
   "execution_count": 16,
   "id": "0f0ab085-8da2-4a41-a347-5795d31138d6",
   "metadata": {},
   "outputs": [
    {
     "data": {
      "text/plain": [
       "5700.0"
      ]
     },
     "execution_count": 16,
     "metadata": {},
     "output_type": "execute_result"
    }
   ],
   "source": [
    "sales_data['Total_Sales_Values'].median()"
   ]
  },
  {
   "cell_type": "markdown",
   "id": "f32ec58c-ca3e-4510-ba8e-8852a082c1b0",
   "metadata": {},
   "source": [
    "#### In my observation \"Total Sales Values\" min and max are too far values and mean & median has too far and completly different values\n",
    "#### it seams like so many outliers checking with plot graphs. Going through outliers detection and removing outlier to clean the data."
   ]
  },
  {
   "cell_type": "code",
   "execution_count": 17,
   "id": "a18fbf4a-8d10-448f-9332-f298c75d4f7a",
   "metadata": {},
   "outputs": [
    {
     "data": {
      "text/plain": [
       "1.5347293238977937"
      ]
     },
     "execution_count": 17,
     "metadata": {},
     "output_type": "execute_result"
    }
   ],
   "source": [
    "sales_data['Total_Sales_Values'].skew()"
   ]
  },
  {
   "cell_type": "markdown",
   "id": "1d82cde3-20ea-47b4-bd65-9918ce763574",
   "metadata": {},
   "source": [
    "#### Based on skewness Positive value it seams like Right skewed Distrubutions."
   ]
  },
  {
   "cell_type": "markdown",
   "id": "6da2fa3c-c0f2-4768-9d15-706e67128c91",
   "metadata": {},
   "source": [
    "### Data Visualization & Outlier Detection"
   ]
  },
  {
   "cell_type": "code",
   "execution_count": 18,
   "id": "3bb672b5-bf4a-47d4-babb-4b75ba47c43b",
   "metadata": {},
   "outputs": [
    {
     "data": {
      "text/plain": [
       "<Axes: ylabel='Total_Sales_Values'>"
      ]
     },
     "execution_count": 18,
     "metadata": {},
     "output_type": "execute_result"
    },
    {
     "data": {
      "image/png": "[encoded data removed]",
      "text/plain": [
       "<Figure size 640x480 with 1 Axes>"
      ]
     },
     "metadata": {},
     "output_type": "display_data"
    }
   ],
   "source": [
    "sns.boxplot(y='Total_Sales_Values', data = sales_data)"
   ]
  },
  {
   "cell_type": "raw",
   "id": "513bebfb-764b-43ac-bcbc-d9d1dd1e53d1",
   "metadata": {},
   "source": [
    "Based on the box plot 'Sales_Data_set ' has so many outliers to remove"
   ]
  },
  {
   "cell_type": "markdown",
   "id": "8b90cb25-8199-43a9-9cf7-2c86ad61867b",
   "metadata": {},
   "source": [
    "### Outliers Detection\n"
   ]
  },
  {
   "cell_type": "code",
   "execution_count": 19,
   "id": "a179b14a-cebc-48b3-b75b-6b33613e1810",
   "metadata": {},
   "outputs": [
    {
     "name": "stdout",
     "output_type": "stream",
     "text": [
      "Q1: 2700.0 Q2: 5700.0 Q3: 53200.0\n"
     ]
    }
   ],
   "source": [
    "Q1 = np.quantile(sales_data['Total_Sales_Values'],0.25)\n",
    "Q2 = np.quantile(sales_data['Total_Sales_Values'],0.50)\n",
    "Q3 = np.quantile(sales_data['Total_Sales_Values'],0.75)\n",
    "print('Q1:',Q1,'Q2:',Q2,'Q3:',Q3)"
   ]
  },
  {
   "cell_type": "code",
   "execution_count": 20,
   "id": "106a58a1-bf1d-4233-a69d-7346e11a819f",
   "metadata": {},
   "outputs": [
    {
     "name": "stdout",
     "output_type": "stream",
     "text": [
      "IQR: 25250.0\n",
      "Upper: 91075.0\n",
      "Lower: -35175.0\n"
     ]
    }
   ],
   "source": [
    "IQR = (Q3 - Q1)/2\n",
    "print('IQR:', IQR)\n",
    "\n",
    "Lower = Q1 - (1.5 * IQR)\n",
    "Upper = Q3 + (1.5 * IQR)\n",
    "\n",
    "print('Upper:',Upper)\n",
    "print('Lower:',Lower)"
   ]
  },
  {
   "cell_type": "code",
   "execution_count": 21,
   "id": "f7e38f03-4a8e-49fe-a20c-7c9eb3a11cc5",
   "metadata": {},
   "outputs": [
    {
     "data": {
      "text/plain": [
       "Total_Sales_Values\n",
       "24300     14\n",
       "3900      11\n",
       "147300    11\n",
       "4500      11\n",
       "800        9\n",
       "          ..\n",
       "20200      1\n",
       "5115       1\n",
       "580        1\n",
       "2240       1\n",
       "2325       1\n",
       "Name: count, Length: 135, dtype: int64"
      ]
     },
     "execution_count": 21,
     "metadata": {},
     "output_type": "execute_result"
    }
   ],
   "source": [
    "sales_data['Total_Sales_Values'].value_counts()"
   ]
  },
  {
   "cell_type": "code",
   "execution_count": 22,
   "id": "63251fb1-0663-4abe-a5ad-e550d938fe75",
   "metadata": {},
   "outputs": [
    {
     "data": {
      "text/plain": [
       "(435, 13)"
      ]
     },
     "execution_count": 22,
     "metadata": {},
     "output_type": "execute_result"
    }
   ],
   "source": [
    "# spliting the data\n",
    "sales_data_split = sales_data[sales_data['Total_Sales_Values'] >800]\n",
    "sales_data_split.shape"
   ]
  },
  {
   "cell_type": "code",
   "execution_count": 23,
   "id": "381bfe05-8ac7-4667-92e7-3b22d0e6f32b",
   "metadata": {},
   "outputs": [
    {
     "data": {
      "text/plain": [
       "(171, 13)"
      ]
     },
     "execution_count": 23,
     "metadata": {},
     "output_type": "execute_result"
    }
   ],
   "source": [
    "sales_data_split = sales_data[sales_data['Total_Sales_Values'] <4000]\n",
    "sales_data_split.shape"
   ]
  },
  {
   "cell_type": "code",
   "execution_count": null,
   "id": "f5d63ebb-af38-4548-a448-ce567f469f40",
   "metadata": {},
   "outputs": [],
   "source": []
  },
  {
   "cell_type": "markdown",
   "id": "0ce888e7-33b7-43c9-b39d-a02cbc8eb24c",
   "metadata": {},
   "source": [
    "#### Checking the Outliers through box plot and describe function looking through mean and median values"
   ]
  },
  {
   "cell_type": "code",
   "execution_count": null,
   "id": "3093f9b0-c22e-46f6-9d9c-6466a01fb1e4",
   "metadata": {},
   "outputs": [],
   "source": []
  },
  {
   "cell_type": "code",
   "execution_count": 24,
   "id": "2dc225e6-dca8-4517-b958-53e11454636d",
   "metadata": {},
   "outputs": [
    {
     "data": {
      "text/plain": [
       "<Axes: ylabel='Total_Sales_Values'>"
      ]
     },
     "execution_count": 24,
     "metadata": {},
     "output_type": "execute_result"
    },
    {
     "data": {
      "image/png": "[encoded data removed]",
      "text/plain": [
       "<Figure size 640x480 with 1 Axes>"
      ]
     },
     "metadata": {},
     "output_type": "display_data"
    }
   ],
   "source": [
    "sns.boxplot(y='Total_Sales_Values', data = sales_data_split)"
   ]
  },
  {
   "cell_type": "code",
   "execution_count": 25,
   "id": "a25c4ae0-9dcb-48d1-80c4-1429386a4202",
   "metadata": {},
   "outputs": [
    {
     "data": {
      "text/html": [
       "<div>\n",
       "<style scoped>\n",
       "    .dataframe tbody tr th:only-of-type {\n",
       "        vertical-align: middle;\n",
       "    }\n",
       "\n",
       "    .dataframe tbody tr th {\n",
       "        vertical-align: top;\n",
       "    }\n",
       "\n",
       "    .dataframe thead th {\n",
       "        text-align: right;\n",
       "    }\n",
       "</style>\n",
       "<table border=\"1\" class=\"dataframe\">\n",
       "  <thead>\n",
       "    <tr style=\"text-align: right;\">\n",
       "      <th></th>\n",
       "      <th>Date</th>\n",
       "      <th>Volume</th>\n",
       "      <th>Avg_Price</th>\n",
       "      <th>Total_Sales_Values</th>\n",
       "      <th>Discount_Rate_perct</th>\n",
       "      <th>Discount_Amount</th>\n",
       "      <th>Net_Sales_Value</th>\n",
       "    </tr>\n",
       "  </thead>\n",
       "  <tbody>\n",
       "    <tr>\n",
       "      <th>count</th>\n",
       "      <td>171</td>\n",
       "      <td>171.000000</td>\n",
       "      <td>171.000000</td>\n",
       "      <td>171.000000</td>\n",
       "      <td>171.000000</td>\n",
       "      <td>171.000000</td>\n",
       "      <td>171.000000</td>\n",
       "    </tr>\n",
       "    <tr>\n",
       "      <th>mean</th>\n",
       "      <td>2021-06-09 17:32:37.894736896</td>\n",
       "      <td>3.713450</td>\n",
       "      <td>777.304094</td>\n",
       "      <td>2142.093567</td>\n",
       "      <td>17.371625</td>\n",
       "      <td>371.711368</td>\n",
       "      <td>1770.382199</td>\n",
       "    </tr>\n",
       "    <tr>\n",
       "      <th>min</th>\n",
       "      <td>2021-01-04 00:00:00</td>\n",
       "      <td>1.000000</td>\n",
       "      <td>290.000000</td>\n",
       "      <td>400.000000</td>\n",
       "      <td>15.089819</td>\n",
       "      <td>69.177942</td>\n",
       "      <td>326.974801</td>\n",
       "    </tr>\n",
       "    <tr>\n",
       "      <th>25%</th>\n",
       "      <td>2021-04-13 00:00:00</td>\n",
       "      <td>2.000000</td>\n",
       "      <td>400.000000</td>\n",
       "      <td>1275.000000</td>\n",
       "      <td>16.148010</td>\n",
       "      <td>222.483309</td>\n",
       "      <td>1056.622638</td>\n",
       "    </tr>\n",
       "    <tr>\n",
       "      <th>50%</th>\n",
       "      <td>2021-05-04 00:00:00</td>\n",
       "      <td>3.000000</td>\n",
       "      <td>500.000000</td>\n",
       "      <td>2000.000000</td>\n",
       "      <td>17.344508</td>\n",
       "      <td>337.339409</td>\n",
       "      <td>1606.391217</td>\n",
       "    </tr>\n",
       "    <tr>\n",
       "      <th>75%</th>\n",
       "      <td>2021-09-04 00:00:00</td>\n",
       "      <td>4.500000</td>\n",
       "      <td>1099.000000</td>\n",
       "      <td>3100.000000</td>\n",
       "      <td>18.492114</td>\n",
       "      <td>519.786649</td>\n",
       "      <td>2567.250989</td>\n",
       "    </tr>\n",
       "    <tr>\n",
       "      <th>max</th>\n",
       "      <td>2021-12-04 00:00:00</td>\n",
       "      <td>12.000000</td>\n",
       "      <td>3100.000000</td>\n",
       "      <td>3900.000000</td>\n",
       "      <td>19.992407</td>\n",
       "      <td>771.381268</td>\n",
       "      <td>3309.828463</td>\n",
       "    </tr>\n",
       "    <tr>\n",
       "      <th>std</th>\n",
       "      <td>NaN</td>\n",
       "      <td>2.314861</td>\n",
       "      <td>672.587314</td>\n",
       "      <td>1004.128708</td>\n",
       "      <td>1.436045</td>\n",
       "      <td>176.972625</td>\n",
       "      <td>831.396364</td>\n",
       "    </tr>\n",
       "  </tbody>\n",
       "</table>\n",
       "</div>"
      ],
      "text/plain": [
       "                                Date      Volume    Avg_Price  \\\n",
       "count                            171  171.000000   171.000000   \n",
       "mean   2021-06-09 17:32:37.894736896    3.713450   777.304094   \n",
       "min              2021-01-04 00:00:00    1.000000   290.000000   \n",
       "25%              2021-04-13 00:00:00    2.000000   400.000000   \n",
       "50%              2021-05-04 00:00:00    3.000000   500.000000   \n",
       "75%              2021-09-04 00:00:00    4.500000  1099.000000   \n",
       "max              2021-12-04 00:00:00   12.000000  3100.000000   \n",
       "std                              NaN    2.314861   672.587314   \n",
       "\n",
       "       Total_Sales_Values  Discount_Rate_perct  Discount_Amount  \\\n",
       "count          171.000000           171.000000       171.000000   \n",
       "mean          2142.093567            17.371625       371.711368   \n",
       "min            400.000000            15.089819        69.177942   \n",
       "25%           1275.000000            16.148010       222.483309   \n",
       "50%           2000.000000            17.344508       337.339409   \n",
       "75%           3100.000000            18.492114       519.786649   \n",
       "max           3900.000000            19.992407       771.381268   \n",
       "std           1004.128708             1.436045       176.972625   \n",
       "\n",
       "       Net_Sales_Value  \n",
       "count       171.000000  \n",
       "mean       1770.382199  \n",
       "min         326.974801  \n",
       "25%        1056.622638  \n",
       "50%        1606.391217  \n",
       "75%        2567.250989  \n",
       "max        3309.828463  \n",
       "std         831.396364  "
      ]
     },
     "execution_count": 25,
     "metadata": {},
     "output_type": "execute_result"
    }
   ],
   "source": [
    "sales_data_split.describe()"
   ]
  },
  {
   "cell_type": "code",
   "execution_count": 26,
   "id": "4853eb52-0149-4a1e-be9a-7b03e30e4699",
   "metadata": {},
   "outputs": [
    {
     "data": {
      "text/html": [
       "<div>\n",
       "<style scoped>\n",
       "    .dataframe tbody tr th:only-of-type {\n",
       "        vertical-align: middle;\n",
       "    }\n",
       "\n",
       "    .dataframe tbody tr th {\n",
       "        vertical-align: top;\n",
       "    }\n",
       "\n",
       "    .dataframe thead th {\n",
       "        text-align: right;\n",
       "    }\n",
       "</style>\n",
       "<table border=\"1\" class=\"dataframe\">\n",
       "  <thead>\n",
       "    <tr style=\"text-align: right;\">\n",
       "      <th></th>\n",
       "      <th>Date</th>\n",
       "      <th>Day</th>\n",
       "      <th>SKU</th>\n",
       "      <th>City</th>\n",
       "      <th>Volume</th>\n",
       "      <th>BU</th>\n",
       "      <th>Brand</th>\n",
       "      <th>Model</th>\n",
       "      <th>Avg_Price</th>\n",
       "      <th>Total_Sales_Values</th>\n",
       "      <th>Discount_Rate_perct</th>\n",
       "      <th>Discount_Amount</th>\n",
       "      <th>Net_Sales_Value</th>\n",
       "    </tr>\n",
       "  </thead>\n",
       "  <tbody>\n",
       "    <tr>\n",
       "      <th>11</th>\n",
       "      <td>2021-01-04</td>\n",
       "      <td>Thursday</td>\n",
       "      <td>F02</td>\n",
       "      <td>C</td>\n",
       "      <td>4</td>\n",
       "      <td>FMCG</td>\n",
       "      <td>Vedic</td>\n",
       "      <td>Vedic Cream</td>\n",
       "      <td>300</td>\n",
       "      <td>1200</td>\n",
       "      <td>16.578316</td>\n",
       "      <td>198.939790</td>\n",
       "      <td>1001.060210</td>\n",
       "    </tr>\n",
       "    <tr>\n",
       "      <th>12</th>\n",
       "      <td>2021-01-04</td>\n",
       "      <td>Thursday</td>\n",
       "      <td>F03</td>\n",
       "      <td>C</td>\n",
       "      <td>4</td>\n",
       "      <td>FMCG</td>\n",
       "      <td>Vedic</td>\n",
       "      <td>Vedic Shampoo</td>\n",
       "      <td>390</td>\n",
       "      <td>1560</td>\n",
       "      <td>18.159408</td>\n",
       "      <td>283.286766</td>\n",
       "      <td>1276.713234</td>\n",
       "    </tr>\n",
       "    <tr>\n",
       "      <th>14</th>\n",
       "      <td>2021-01-04</td>\n",
       "      <td>Thursday</td>\n",
       "      <td>F05</td>\n",
       "      <td>C</td>\n",
       "      <td>5</td>\n",
       "      <td>FMCG</td>\n",
       "      <td>Babaji</td>\n",
       "      <td>Babaji Cream</td>\n",
       "      <td>290</td>\n",
       "      <td>1450</td>\n",
       "      <td>15.516591</td>\n",
       "      <td>224.990564</td>\n",
       "      <td>1225.009436</td>\n",
       "    </tr>\n",
       "    <tr>\n",
       "      <th>15</th>\n",
       "      <td>2021-01-04</td>\n",
       "      <td>Thursday</td>\n",
       "      <td>F06</td>\n",
       "      <td>C</td>\n",
       "      <td>5</td>\n",
       "      <td>FMCG</td>\n",
       "      <td>Vedic</td>\n",
       "      <td>Vedic Oil</td>\n",
       "      <td>450</td>\n",
       "      <td>2250</td>\n",
       "      <td>18.120928</td>\n",
       "      <td>407.720888</td>\n",
       "      <td>1842.279112</td>\n",
       "    </tr>\n",
       "    <tr>\n",
       "      <th>16</th>\n",
       "      <td>2021-01-04</td>\n",
       "      <td>Thursday</td>\n",
       "      <td>F07</td>\n",
       "      <td>C</td>\n",
       "      <td>3</td>\n",
       "      <td>FMCG</td>\n",
       "      <td>Gear</td>\n",
       "      <td>Gear Oil</td>\n",
       "      <td>500</td>\n",
       "      <td>1500</td>\n",
       "      <td>18.114871</td>\n",
       "      <td>271.723059</td>\n",
       "      <td>1228.276941</td>\n",
       "    </tr>\n",
       "  </tbody>\n",
       "</table>\n",
       "</div>"
      ],
      "text/plain": [
       "         Date       Day  SKU City  Volume    BU   Brand          Model  \\\n",
       "11 2021-01-04  Thursday  F02    C       4  FMCG   Vedic    Vedic Cream   \n",
       "12 2021-01-04  Thursday  F03    C       4  FMCG   Vedic  Vedic Shampoo   \n",
       "14 2021-01-04  Thursday  F05    C       5  FMCG  Babaji   Babaji Cream   \n",
       "15 2021-01-04  Thursday  F06    C       5  FMCG   Vedic      Vedic Oil   \n",
       "16 2021-01-04  Thursday  F07    C       3  FMCG    Gear       Gear Oil   \n",
       "\n",
       "    Avg_Price  Total_Sales_Values  Discount_Rate_perct  Discount_Amount  \\\n",
       "11        300                1200            16.578316       198.939790   \n",
       "12        390                1560            18.159408       283.286766   \n",
       "14        290                1450            15.516591       224.990564   \n",
       "15        450                2250            18.120928       407.720888   \n",
       "16        500                1500            18.114871       271.723059   \n",
       "\n",
       "    Net_Sales_Value  \n",
       "11      1001.060210  \n",
       "12      1276.713234  \n",
       "14      1225.009436  \n",
       "15      1842.279112  \n",
       "16      1228.276941  "
      ]
     },
     "execution_count": 26,
     "metadata": {},
     "output_type": "execute_result"
    }
   ],
   "source": [
    "sales_data_split.head()"
   ]
  },
  {
   "cell_type": "code",
   "execution_count": 45,
   "id": "e610a8d9-4978-44ae-8c9f-704301a4522e",
   "metadata": {},
   "outputs": [
    {
     "data": {
      "text/plain": [
       "BU\n",
       "FMCG         122\n",
       "Lifestyle     49\n",
       "Name: count, dtype: Int64"
      ]
     },
     "execution_count": 45,
     "metadata": {},
     "output_type": "execute_result"
    }
   ],
   "source": [
    "sales_data_split['BU'].value_counts()"
   ]
  },
  {
   "cell_type": "markdown",
   "id": "7c673838-707b-4015-a475-2728982100c3",
   "metadata": {},
   "source": [
    "#### Bar Chart to check difference in the sales"
   ]
  },
  {
   "cell_type": "code",
   "execution_count": 28,
   "id": "a2549010-913a-4da5-bd9e-2955279e36c3",
   "metadata": {},
   "outputs": [
    {
     "name": "stdout",
     "output_type": "stream",
     "text": [
      "BU\n",
      "FMCG         1812.28\n",
      "Lifestyle    2963.27\n",
      "Name: Total_Sales_Values, dtype: float64\n"
     ]
    },
    {
     "data": {
      "text/plain": [
       "<Axes: xlabel='BU'>"
      ]
     },
     "execution_count": 28,
     "metadata": {},
     "output_type": "execute_result"
    },
    {
     "data": {
      "image/png": "[encoded data removed]",
      "text/plain": [
       "<Figure size 640x480 with 1 Axes>"
      ]
     },
     "metadata": {},
     "output_type": "display_data"
    }
   ],
   "source": [
    "BU_split = round(sales_data_split.groupby('BU')['Total_Sales_Values'].mean(),2)\n",
    "print(BU_split)\n",
    "BU_split.plot(kind = 'bar')"
   ]
  },
  {
   "cell_type": "markdown",
   "id": "c4f4db55-b0ca-498f-998b-2f6234692d3e",
   "metadata": {},
   "source": [
    "#### Looking the bar chart we can understand based on the BU Categorical variable 'Lifestyle' has more Sales"
   ]
  },
  {
   "cell_type": "code",
   "execution_count": 29,
   "id": "73534d75-b615-4187-ab2c-c78711a8c2b3",
   "metadata": {},
   "outputs": [
    {
     "name": "stdout",
     "output_type": "stream",
     "text": [
      "Brand\n",
      "Babaji    1913.50\n",
      "Gear      1604.16\n",
      "Jeera     2937.50\n",
      "Vedic     2051.67\n",
      "Viva      3011.76\n",
      "Name: Total_Sales_Values, dtype: float64\n"
     ]
    },
    {
     "data": {
      "text/plain": [
       "<Axes: xlabel='Brand'>"
      ]
     },
     "execution_count": 29,
     "metadata": {},
     "output_type": "execute_result"
    },
    {
     "data": {
      "image/png": "[encoded data removed]",
      "text/plain": [
       "<Figure size 640x480 with 1 Axes>"
      ]
     },
     "metadata": {},
     "output_type": "display_data"
    }
   ],
   "source": [
    "Brand_split = round(sales_data_split.groupby('Brand')['Total_Sales_Values'].mean(),2)\n",
    "print(Brand_split)\n",
    "Brand_split.plot(kind = 'bar')"
   ]
  },
  {
   "cell_type": "markdown",
   "id": "795d5418-e4b2-43bb-b045-b1bf8b1c4697",
   "metadata": {},
   "source": [
    "#### Looking the bar chart based on the Brand Categorical values, we can understand \"Viva\" has more sales"
   ]
  },
  {
   "cell_type": "code",
   "execution_count": 30,
   "id": "171282df-6f32-4964-b124-78281342c610",
   "metadata": {},
   "outputs": [
    {
     "data": {
      "text/plain": [
       "Date                   datetime64[ns]\n",
       "Day                    string[python]\n",
       "SKU                    string[python]\n",
       "City                   string[python]\n",
       "Volume                          int64\n",
       "BU                     string[python]\n",
       "Brand                  string[python]\n",
       "Model                  string[python]\n",
       "Avg_Price                       int64\n",
       "Total_Sales_Values              int64\n",
       "Discount_Rate_perct           float64\n",
       "Discount_Amount               float64\n",
       "Net_Sales_Value               float64\n",
       "dtype: object"
      ]
     },
     "execution_count": 30,
     "metadata": {},
     "output_type": "execute_result"
    }
   ],
   "source": [
    "sales_data.dtypes"
   ]
  },
  {
   "cell_type": "code",
   "execution_count": 31,
   "id": "8d1b207a-854f-4e0d-8a2a-c8f592fbbc9c",
   "metadata": {},
   "outputs": [
    {
     "data": {
      "text/html": [
       "<div>\n",
       "<style scoped>\n",
       "    .dataframe tbody tr th:only-of-type {\n",
       "        vertical-align: middle;\n",
       "    }\n",
       "\n",
       "    .dataframe tbody tr th {\n",
       "        vertical-align: top;\n",
       "    }\n",
       "\n",
       "    .dataframe thead th {\n",
       "        text-align: right;\n",
       "    }\n",
       "</style>\n",
       "<table border=\"1\" class=\"dataframe\">\n",
       "  <thead>\n",
       "    <tr style=\"text-align: right;\">\n",
       "      <th></th>\n",
       "      <th>Date</th>\n",
       "      <th>Day</th>\n",
       "      <th>SKU</th>\n",
       "      <th>City</th>\n",
       "      <th>Volume</th>\n",
       "      <th>BU</th>\n",
       "      <th>Brand</th>\n",
       "      <th>Model</th>\n",
       "      <th>Avg_Price</th>\n",
       "      <th>Total_Sales_Values</th>\n",
       "      <th>Discount_Rate_perct</th>\n",
       "      <th>Discount_Amount</th>\n",
       "      <th>Net_Sales_Value</th>\n",
       "    </tr>\n",
       "  </thead>\n",
       "  <tbody>\n",
       "    <tr>\n",
       "      <th>11</th>\n",
       "      <td>2021-01-04</td>\n",
       "      <td>Thursday</td>\n",
       "      <td>F02</td>\n",
       "      <td>C</td>\n",
       "      <td>4</td>\n",
       "      <td>FMCG</td>\n",
       "      <td>Vedic</td>\n",
       "      <td>Vedic Cream</td>\n",
       "      <td>300</td>\n",
       "      <td>1200</td>\n",
       "      <td>16.578316</td>\n",
       "      <td>198.939790</td>\n",
       "      <td>1001.060210</td>\n",
       "    </tr>\n",
       "    <tr>\n",
       "      <th>12</th>\n",
       "      <td>2021-01-04</td>\n",
       "      <td>Thursday</td>\n",
       "      <td>F03</td>\n",
       "      <td>C</td>\n",
       "      <td>4</td>\n",
       "      <td>FMCG</td>\n",
       "      <td>Vedic</td>\n",
       "      <td>Vedic Shampoo</td>\n",
       "      <td>390</td>\n",
       "      <td>1560</td>\n",
       "      <td>18.159408</td>\n",
       "      <td>283.286766</td>\n",
       "      <td>1276.713234</td>\n",
       "    </tr>\n",
       "    <tr>\n",
       "      <th>14</th>\n",
       "      <td>2021-01-04</td>\n",
       "      <td>Thursday</td>\n",
       "      <td>F05</td>\n",
       "      <td>C</td>\n",
       "      <td>5</td>\n",
       "      <td>FMCG</td>\n",
       "      <td>Babaji</td>\n",
       "      <td>Babaji Cream</td>\n",
       "      <td>290</td>\n",
       "      <td>1450</td>\n",
       "      <td>15.516591</td>\n",
       "      <td>224.990564</td>\n",
       "      <td>1225.009436</td>\n",
       "    </tr>\n",
       "    <tr>\n",
       "      <th>15</th>\n",
       "      <td>2021-01-04</td>\n",
       "      <td>Thursday</td>\n",
       "      <td>F06</td>\n",
       "      <td>C</td>\n",
       "      <td>5</td>\n",
       "      <td>FMCG</td>\n",
       "      <td>Vedic</td>\n",
       "      <td>Vedic Oil</td>\n",
       "      <td>450</td>\n",
       "      <td>2250</td>\n",
       "      <td>18.120928</td>\n",
       "      <td>407.720888</td>\n",
       "      <td>1842.279112</td>\n",
       "    </tr>\n",
       "    <tr>\n",
       "      <th>16</th>\n",
       "      <td>2021-01-04</td>\n",
       "      <td>Thursday</td>\n",
       "      <td>F07</td>\n",
       "      <td>C</td>\n",
       "      <td>3</td>\n",
       "      <td>FMCG</td>\n",
       "      <td>Gear</td>\n",
       "      <td>Gear Oil</td>\n",
       "      <td>500</td>\n",
       "      <td>1500</td>\n",
       "      <td>18.114871</td>\n",
       "      <td>271.723059</td>\n",
       "      <td>1228.276941</td>\n",
       "    </tr>\n",
       "  </tbody>\n",
       "</table>\n",
       "</div>"
      ],
      "text/plain": [
       "         Date       Day  SKU City  Volume    BU   Brand          Model  \\\n",
       "11 2021-01-04  Thursday  F02    C       4  FMCG   Vedic    Vedic Cream   \n",
       "12 2021-01-04  Thursday  F03    C       4  FMCG   Vedic  Vedic Shampoo   \n",
       "14 2021-01-04  Thursday  F05    C       5  FMCG  Babaji   Babaji Cream   \n",
       "15 2021-01-04  Thursday  F06    C       5  FMCG   Vedic      Vedic Oil   \n",
       "16 2021-01-04  Thursday  F07    C       3  FMCG    Gear       Gear Oil   \n",
       "\n",
       "    Avg_Price  Total_Sales_Values  Discount_Rate_perct  Discount_Amount  \\\n",
       "11        300                1200            16.578316       198.939790   \n",
       "12        390                1560            18.159408       283.286766   \n",
       "14        290                1450            15.516591       224.990564   \n",
       "15        450                2250            18.120928       407.720888   \n",
       "16        500                1500            18.114871       271.723059   \n",
       "\n",
       "    Net_Sales_Value  \n",
       "11      1001.060210  \n",
       "12      1276.713234  \n",
       "14      1225.009436  \n",
       "15      1842.279112  \n",
       "16      1228.276941  "
      ]
     },
     "execution_count": 31,
     "metadata": {},
     "output_type": "execute_result"
    }
   ],
   "source": [
    "df= sales_data_split.copy()\n",
    "df.head()"
   ]
  },
  {
   "cell_type": "code",
   "execution_count": 35,
   "id": "4e62f9b7-8671-4ea9-bfab-d13b812ddcfb",
   "metadata": {
    "scrolled": true
   },
   "outputs": [
    {
     "data": {
      "text/html": [
       "<div>\n",
       "<style scoped>\n",
       "    .dataframe tbody tr th:only-of-type {\n",
       "        vertical-align: middle;\n",
       "    }\n",
       "\n",
       "    .dataframe tbody tr th {\n",
       "        vertical-align: top;\n",
       "    }\n",
       "\n",
       "    .dataframe thead th {\n",
       "        text-align: right;\n",
       "    }\n",
       "</style>\n",
       "<table border=\"1\" class=\"dataframe\">\n",
       "  <thead>\n",
       "    <tr style=\"text-align: right;\">\n",
       "      <th></th>\n",
       "      <th>Avg_Price</th>\n",
       "      <th>Total_Sales_Values</th>\n",
       "      <th>Discount_Rate_perct</th>\n",
       "      <th>Discount_Amount</th>\n",
       "      <th>Net_Sales_Value</th>\n",
       "    </tr>\n",
       "  </thead>\n",
       "  <tbody>\n",
       "    <tr>\n",
       "      <th>11</th>\n",
       "      <td>300</td>\n",
       "      <td>1200</td>\n",
       "      <td>16.578316</td>\n",
       "      <td>198.939790</td>\n",
       "      <td>1001.060210</td>\n",
       "    </tr>\n",
       "    <tr>\n",
       "      <th>12</th>\n",
       "      <td>390</td>\n",
       "      <td>1560</td>\n",
       "      <td>18.159408</td>\n",
       "      <td>283.286766</td>\n",
       "      <td>1276.713234</td>\n",
       "    </tr>\n",
       "    <tr>\n",
       "      <th>14</th>\n",
       "      <td>290</td>\n",
       "      <td>1450</td>\n",
       "      <td>15.516591</td>\n",
       "      <td>224.990564</td>\n",
       "      <td>1225.009436</td>\n",
       "    </tr>\n",
       "    <tr>\n",
       "      <th>15</th>\n",
       "      <td>450</td>\n",
       "      <td>2250</td>\n",
       "      <td>18.120928</td>\n",
       "      <td>407.720888</td>\n",
       "      <td>1842.279112</td>\n",
       "    </tr>\n",
       "    <tr>\n",
       "      <th>16</th>\n",
       "      <td>500</td>\n",
       "      <td>1500</td>\n",
       "      <td>18.114871</td>\n",
       "      <td>271.723059</td>\n",
       "      <td>1228.276941</td>\n",
       "    </tr>\n",
       "  </tbody>\n",
       "</table>\n",
       "</div>"
      ],
      "text/plain": [
       "    Avg_Price  Total_Sales_Values  Discount_Rate_perct  Discount_Amount  \\\n",
       "11        300                1200            16.578316       198.939790   \n",
       "12        390                1560            18.159408       283.286766   \n",
       "14        290                1450            15.516591       224.990564   \n",
       "15        450                2250            18.120928       407.720888   \n",
       "16        500                1500            18.114871       271.723059   \n",
       "\n",
       "    Net_Sales_Value  \n",
       "11      1001.060210  \n",
       "12      1276.713234  \n",
       "14      1225.009436  \n",
       "15      1842.279112  \n",
       "16      1228.276941  "
      ]
     },
     "execution_count": 35,
     "metadata": {},
     "output_type": "execute_result"
    }
   ],
   "source": [
    "df_standardized = df.drop(df.iloc[0:,0:8],axis=1)\n",
    "df_standardized.head()"
   ]
  },
  {
   "cell_type": "code",
   "execution_count": 33,
   "id": "8cce7123-c243-402b-b6da-016a4161905d",
   "metadata": {},
   "outputs": [
    {
     "data": {
      "image/png": "[encoded data removed]",
      "text/plain": [
       "<Figure size 800x600 with 1 Axes>"
      ]
     },
     "metadata": {},
     "output_type": "display_data"
    },
    {
     "data": {
      "image/png": "[encoded data removed]",
      "text/plain": [
       "<Figure size 800x600 with 1 Axes>"
      ]
     },
     "metadata": {},
     "output_type": "display_data"
    },
    {
     "data": {
      "image/png": "[encoded data removed]",
      "text/plain": [
       "<Figure size 800x600 with 1 Axes>"
      ]
     },
     "metadata": {},
     "output_type": "display_data"
    },
    {
     "data": {
      "image/png": "[encoded data removed]",
      "text/plain": [
       "<Figure size 800x600 with 1 Axes>"
      ]
     },
     "metadata": {},
     "output_type": "display_data"
    },
    {
     "data": {
      "image/png": "[encoded data removed]",
      "text/plain": [
       "<Figure size 800x600 with 1 Axes>"
      ]
     },
     "metadata": {},
     "output_type": "display_data"
    }
   ],
   "source": [
    "for column in df_standardized.columns:\n",
    "    plt.figure(figsize=(8,6))\n",
    "    plt.hist(df_standardized[column], bins=20, color='skyblue', edgecolor='black')\n",
    "    plt.title(f'Histogram of{column}')\n",
    "    plt.xlabel(column)\n",
    "    plt.ylabel('Frequency')\n",
    "    plt.grid(True)\n",
    "    plt.show()"
   ]
  },
  {
   "cell_type": "code",
   "execution_count": 36,
   "id": "0d9b4519-21df-4ba5-8ae1-016a9b59223d",
   "metadata": {},
   "outputs": [
    {
     "data": {
      "text/html": [
       "<div>\n",
       "<style scoped>\n",
       "    .dataframe tbody tr th:only-of-type {\n",
       "        vertical-align: middle;\n",
       "    }\n",
       "\n",
       "    .dataframe tbody tr th {\n",
       "        vertical-align: top;\n",
       "    }\n",
       "\n",
       "    .dataframe thead th {\n",
       "        text-align: right;\n",
       "    }\n",
       "</style>\n",
       "<table border=\"1\" class=\"dataframe\">\n",
       "  <thead>\n",
       "    <tr style=\"text-align: right;\">\n",
       "      <th></th>\n",
       "      <th>Avg_Price</th>\n",
       "      <th>Total_Sales_Values</th>\n",
       "      <th>Discount_Rate_perct</th>\n",
       "      <th>Discount_Amount</th>\n",
       "      <th>Net_Sales_Value</th>\n",
       "    </tr>\n",
       "  </thead>\n",
       "  <tbody>\n",
       "    <tr>\n",
       "      <th>11</th>\n",
       "      <td>-0.709654</td>\n",
       "      <td>-0.938220</td>\n",
       "      <td>-0.552427</td>\n",
       "      <td>-0.976262</td>\n",
       "      <td>-0.925337</td>\n",
       "    </tr>\n",
       "    <tr>\n",
       "      <th>12</th>\n",
       "      <td>-0.575842</td>\n",
       "      <td>-0.579700</td>\n",
       "      <td>0.548578</td>\n",
       "      <td>-0.499651</td>\n",
       "      <td>-0.593783</td>\n",
       "    </tr>\n",
       "    <tr>\n",
       "      <th>14</th>\n",
       "      <td>-0.724522</td>\n",
       "      <td>-0.689248</td>\n",
       "      <td>-1.291767</td>\n",
       "      <td>-0.829059</td>\n",
       "      <td>-0.655972</td>\n",
       "    </tr>\n",
       "    <tr>\n",
       "      <th>15</th>\n",
       "      <td>-0.486634</td>\n",
       "      <td>0.107463</td>\n",
       "      <td>0.521783</td>\n",
       "      <td>0.203475</td>\n",
       "      <td>0.086477</td>\n",
       "    </tr>\n",
       "    <tr>\n",
       "      <th>16</th>\n",
       "      <td>-0.412295</td>\n",
       "      <td>-0.639453</td>\n",
       "      <td>0.517564</td>\n",
       "      <td>-0.564993</td>\n",
       "      <td>-0.652042</td>\n",
       "    </tr>\n",
       "  </tbody>\n",
       "</table>\n",
       "</div>"
      ],
      "text/plain": [
       "    Avg_Price  Total_Sales_Values  Discount_Rate_perct  Discount_Amount  \\\n",
       "11  -0.709654           -0.938220            -0.552427        -0.976262   \n",
       "12  -0.575842           -0.579700             0.548578        -0.499651   \n",
       "14  -0.724522           -0.689248            -1.291767        -0.829059   \n",
       "15  -0.486634            0.107463             0.521783         0.203475   \n",
       "16  -0.412295           -0.639453             0.517564        -0.564993   \n",
       "\n",
       "    Net_Sales_Value  \n",
       "11        -0.925337  \n",
       "12        -0.593783  \n",
       "14        -0.655972  \n",
       "15         0.086477  \n",
       "16        -0.652042  "
      ]
     },
     "execution_count": 36,
     "metadata": {},
     "output_type": "execute_result"
    }
   ],
   "source": [
    "# Stadardization of Numerical Values\n",
    "for column in df_standardized.columns:\n",
    "    mean = df_standardized[column].mean()\n",
    "    std = df_standardized[column].std()\n",
    "    df_standardized[column]=(df_standardized[column] - mean)/std\n",
    "\n",
    "df_standardized.head()\n"
   ]
  },
  {
   "cell_type": "code",
   "execution_count": 43,
   "id": "b8ea746b-1408-4cf5-ae4b-2166dc86a4b1",
   "metadata": {},
   "outputs": [
    {
     "name": "stderr",
     "output_type": "stream",
     "text": [
      "C:\\ProgramData\\anaconda3\\Lib\\site-packages\\seaborn\\_oldcore.py:1119: FutureWarning: use_inf_as_na option is deprecated and will be removed in a future version. Convert inf values to NaN before operating instead.\n",
      "  with pd.option_context('mode.use_inf_as_na', True):\n"
     ]
    },
    {
     "data": {
      "text/plain": [
       "<Figure size 800x600 with 0 Axes>"
      ]
     },
     "metadata": {},
     "output_type": "display_data"
    },
    {
     "data": {
      "image/png": "[encoded data removed]",
      "text/plain": [
       "<Figure size 500x500 with 1 Axes>"
      ]
     },
     "metadata": {},
     "output_type": "display_data"
    },
    {
     "name": "stderr",
     "output_type": "stream",
     "text": [
      "C:\\ProgramData\\anaconda3\\Lib\\site-packages\\seaborn\\_oldcore.py:1119: FutureWarning: use_inf_as_na option is deprecated and will be removed in a future version. Convert inf values to NaN before operating instead.\n",
      "  with pd.option_context('mode.use_inf_as_na', True):\n"
     ]
    },
    {
     "data": {
      "text/plain": [
       "<Figure size 800x600 with 0 Axes>"
      ]
     },
     "metadata": {},
     "output_type": "display_data"
    },
    {
     "data": {
      "image/png": "[encoded data removed]",
      "text/plain": [
       "<Figure size 500x500 with 1 Axes>"
      ]
     },
     "metadata": {},
     "output_type": "display_data"
    },
    {
     "name": "stderr",
     "output_type": "stream",
     "text": [
      "C:\\ProgramData\\anaconda3\\Lib\\site-packages\\seaborn\\_oldcore.py:1119: FutureWarning: use_inf_as_na option is deprecated and will be removed in a future version. Convert inf values to NaN before operating instead.\n",
      "  with pd.option_context('mode.use_inf_as_na', True):\n"
     ]
    },
    {
     "data": {
      "text/plain": [
       "<Figure size 800x600 with 0 Axes>"
      ]
     },
     "metadata": {},
     "output_type": "display_data"
    },
    {
     "data": {
      "image/png": "[encoded data removed]",
      "text/plain": [
       "<Figure size 500x500 with 1 Axes>"
      ]
     },
     "metadata": {},
     "output_type": "display_data"
    },
    {
     "name": "stderr",
     "output_type": "stream",
     "text": [
      "C:\\ProgramData\\anaconda3\\Lib\\site-packages\\seaborn\\_oldcore.py:1119: FutureWarning: use_inf_as_na option is deprecated and will be removed in a future version. Convert inf values to NaN before operating instead.\n",
      "  with pd.option_context('mode.use_inf_as_na', True):\n"
     ]
    },
    {
     "data": {
      "text/plain": [
       "<Figure size 800x600 with 0 Axes>"
      ]
     },
     "metadata": {},
     "output_type": "display_data"
    },
    {
     "data": {
      "image/png": "[encoded data removed]",
      "text/plain": [
       "<Figure size 500x500 with 1 Axes>"
      ]
     },
     "metadata": {},
     "output_type": "display_data"
    },
    {
     "name": "stderr",
     "output_type": "stream",
     "text": [
      "C:\\ProgramData\\anaconda3\\Lib\\site-packages\\seaborn\\_oldcore.py:1119: FutureWarning: use_inf_as_na option is deprecated and will be removed in a future version. Convert inf values to NaN before operating instead.\n",
      "  with pd.option_context('mode.use_inf_as_na', True):\n"
     ]
    },
    {
     "data": {
      "text/plain": [
       "<Figure size 800x600 with 0 Axes>"
      ]
     },
     "metadata": {},
     "output_type": "display_data"
    },
    {
     "data": {
      "image/png": "[encoded data removed]",
      "text/plain": [
       "<Figure size 500x500 with 1 Axes>"
      ]
     },
     "metadata": {},
     "output_type": "display_data"
    }
   ],
   "source": [
    "\n",
    "for column in df_standardized.columns:\n",
    "    plt.figure(figsize=(8,6))\n",
    "    sns.displot(df_standardized[column], bins=20, color='skyblue', edgecolor='black')\n",
    "    plt.title(f'Histogram of{column}')\n",
    "    plt.xlabel(column)\n",
    "    plt.ylabel('Frequency')\n",
    "    plt.grid(True)\n",
    "    plt.show()"
   ]
  },
  {
   "cell_type": "markdown",
   "id": "82f7ad2f-2665-4c3b-bced-a237413b9d17",
   "metadata": {},
   "source": [
    "### Dummy Variables"
   ]
  },
  {
   "cell_type": "raw",
   "id": "2c309aab-6410-471e-a7be-67d2c4aa7e12",
   "metadata": {},
   "source": [
    "Properly encoded categorical variables can improve the performance of machine learning models. \n",
    "Dummy variables help models understand categorical distinctions clearly, leading to better predictions."
   ]
  },
  {
   "cell_type": "code",
   "execution_count": 53,
   "id": "4c3ff13a-a551-4feb-8efc-d71d7529a446",
   "metadata": {},
   "outputs": [
    {
     "name": "stdout",
     "output_type": "stream",
     "text": [
      "         Date       Day  SKU City  Volume          Model  Avg_Price  \\\n",
      "11 2021-01-04  Thursday  F02    C       4    Vedic Cream        300   \n",
      "12 2021-01-04  Thursday  F03    C       4  Vedic Shampoo        390   \n",
      "14 2021-01-04  Thursday  F05    C       5   Babaji Cream        290   \n",
      "15 2021-01-04  Thursday  F06    C       5      Vedic Oil        450   \n",
      "16 2021-01-04  Thursday  F07    C       3       Gear Oil        500   \n",
      "\n",
      "    Total_Sales_Values  Discount_Rate_perct  Discount_Amount  Net_Sales_Value  \\\n",
      "11                1200            16.578316       198.939790      1001.060210   \n",
      "12                1560            18.159408       283.286766      1276.713234   \n",
      "14                1450            15.516591       224.990564      1225.009436   \n",
      "15                2250            18.120928       407.720888      1842.279112   \n",
      "16                1500            18.114871       271.723059      1228.276941   \n",
      "\n",
      "    BU_FMCG  BU_Lifestyle  Brand_Babaji  Brand_Gear  Brand_Jeera  Brand_Vedic  \\\n",
      "11     True         False         False       False        False         True   \n",
      "12     True         False         False       False        False         True   \n",
      "14     True         False          True       False        False        False   \n",
      "15     True         False         False       False        False         True   \n",
      "16     True         False         False        True        False        False   \n",
      "\n",
      "    Brand_Viva  \n",
      "11       False  \n",
      "12       False  \n",
      "14       False  \n",
      "15       False  \n",
      "16       False  \n"
     ]
    }
   ],
   "source": [
    "# Creating the Dummy Variables\n",
    "sales_encoded = pd.get_dummies(sales_data_split,columns=['BU','Brand'])\n",
    "print(sales_encoded.head())"
   ]
  },
  {
   "cell_type": "markdown",
   "id": "e205dcf6-11b7-4620-8518-8c72c3a7ac5e",
   "metadata": {},
   "source": [
    "### Summary / Conclusion"
   ]
  },
  {
   "cell_type": "raw",
   "id": "9dcdc0b6-c1d8-42a4-8c27-4e1e331bf1f7",
   "metadata": {},
   "source": [
    "Data Taken: Sales Dataset\n",
    "\n",
    "By using Exploratary Data Analysis, i have cleaned the data for futhers analysis like Machine learning and deep learning.\n",
    "\n",
    "In EDA part:\n",
    "    Step1 : Reading the data using Pandas Library\n",
    "    Step2 : Checking the dataset is there any null(Missing) values present and removing null data\n",
    "    Step3 : Renaming the columns without any space between the words and it is easy for python to descride\n",
    "    Step4 : Checking the data types and changing the datatypes based on the numerical columns.\n",
    "    Step5 : Calculating the mean, median, mode, and standard deviation using the describe function\n",
    "    Step6 : Outliers Detection and removing the outliers.\n",
    "    Step7 : ploting the Graph the based on the updated values and make conclusion on Sales\n",
    "\n",
    "By EDAnalysis i have conclude that Based on \"BU\" category \"LifeStyle\" has more sales,\n",
    "and also based on \"Brand\" category \"Viva\" has more sales.\n",
    "\n",
    "Creating the dummy variables help models understand categorical distinctions clearly, leading to better predictions.\n",
    "Most machine learning algorithms and statistical models require numerical input. Categorical variables, which are often strings or categories, need to be converted to a numerical form."
   ]
  }
 ],
 "metadata": {
  "kernelspec": {
   "display_name": "Python 3 (ipykernel)",
   "language": "python",
   "name": "python3"
  },
  "language_info": {
   "codemirror_mode": {
    "name": "ipython",
    "version": 3
   },
   "file_extension": ".py",
   "mimetype": "text/x-python",
   "name": "python",
   "nbconvert_exporter": "python",
   "pygments_lexer": "ipython3",
   "version": "3.11.7"
  }
 },
 "nbformat": 4,
 "nbformat_minor": 5
}
