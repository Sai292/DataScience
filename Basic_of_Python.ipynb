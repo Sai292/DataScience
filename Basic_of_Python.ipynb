{
 "cells": [
  {
   "cell_type": "markdown",
   "id": "6bd7a6b9-4d3f-4788-a3df-9a2fa0a473f9",
   "metadata": {},
   "source": [
    "## Exercise 1: Prime Numbers\n",
    "#### Write a Python program that checks whether a given number is prime or not. \n",
    "#### A prime number is a natural number greater than 1 that has no positive divisors other than 1 and itself.\n"
   ]
  },
  {
   "cell_type": "code",
   "execution_count": 23,
   "id": "4a539ea0-5667-421e-a4b6-6fd12381e1e7",
   "metadata": {},
   "outputs": [
    {
     "name": "stdin",
     "output_type": "stream",
     "text": [
      "Enter your Number 61\n"
     ]
    },
    {
     "name": "stdout",
     "output_type": "stream",
     "text": [
      "61 is a prime number\n"
     ]
    }
   ],
   "source": [
    "def prime_numbers(num):                   # Defining the Prime_numbers as function\n",
    "    if num < 2:                           # prime numbers will start after 2nd number\n",
    "        return False\n",
    "    for i in range(2,int(num * 0.5) + 1): # prime number is the number which is divisible by 1 and itself\n",
    "        if num % i == 0:                  # checking by using if condition\n",
    "            return False\n",
    "    return True\n",
    "\n",
    "num = int (input(\"Enter your Number\"))    # Taking the output from user\n",
    "if prime_numbers(num):                    # Calling the function prime_numbers\n",
    "    print(num, \"is a prime number\")\n",
    "else:\n",
    "    print (num,\"is not a prime number\")"
   ]
  },
  {
   "cell_type": "markdown",
   "id": "5b926630-4066-4f43-9e49-7b2f18b93b74",
   "metadata": {},
   "source": [
    "## Exercise 2: Product of Random Numbers\n",
    "#### Develop a Python program that generates two random numbers and asks the user to enter the product of these numbers. \n",
    "#### The program should then check if the user's answer is correct and display an appropriate message.\n"
   ]
  },
  {
   "cell_type": "code",
   "execution_count": 13,
   "id": "eacf51e1-5577-4259-bba8-452453303842",
   "metadata": {},
   "outputs": [
    {
     "name": "stdin",
     "output_type": "stream",
     "text": [
      "Enter your First Number: 15\n",
      "Enter your Second Number: 15\n"
     ]
    },
    {
     "name": "stdout",
     "output_type": "stream",
     "text": [
      "Product of 15 * 15 = 225 is True\n"
     ]
    }
   ],
   "source": [
    "# Calling the First number by using Input function\n",
    "num1 = int(input(\"Enter your First Number:\"))\n",
    "# Calling the second number by using Input fuction\n",
    "num2 = int(input(\"Enter your Second Number:\"))\n",
    "a = num1 * num2\n",
    "#print ( \"Product of these numbers:\", a)\n",
    "if a == num1 * num2:\n",
    "    print ( f'Product of {num1} * {num2} = {a} is True')"
   ]
  },
  {
   "cell_type": "markdown",
   "id": "563f139b-73b4-4690-9347-6b4e39672be6",
   "metadata": {},
   "source": [
    "## Exercise 3: Squares of Even/Odd Numbers\n",
    "#### Create a Python script that prints the squares of all even or odd numbers within the range of 100 to 200.\n",
    "#### Choose either even or odd numbers and document your choice in the code.\n"
   ]
  },
  {
   "cell_type": "code",
   "execution_count": 20,
   "id": "ed79e99d-9d21-4fdd-8144-207d7cabea4b",
   "metadata": {},
   "outputs": [
    {
     "name": "stdout",
     "output_type": "stream",
     "text": [
      "100 is Even number -- Square of 100 = 10000\n",
      "102 is Even number -- Square of 102 = 10404\n",
      "104 is Even number -- Square of 104 = 10816\n",
      "106 is Even number -- Square of 106 = 11236\n",
      "108 is Even number -- Square of 108 = 11664\n",
      "110 is Even number -- Square of 110 = 12100\n",
      "112 is Even number -- Square of 112 = 12544\n",
      "114 is Even number -- Square of 114 = 12996\n",
      "116 is Even number -- Square of 116 = 13456\n",
      "118 is Even number -- Square of 118 = 13924\n",
      "120 is Even number -- Square of 120 = 14400\n",
      "122 is Even number -- Square of 122 = 14884\n",
      "124 is Even number -- Square of 124 = 15376\n",
      "126 is Even number -- Square of 126 = 15876\n",
      "128 is Even number -- Square of 128 = 16384\n",
      "130 is Even number -- Square of 130 = 16900\n",
      "132 is Even number -- Square of 132 = 17424\n",
      "134 is Even number -- Square of 134 = 17956\n",
      "136 is Even number -- Square of 136 = 18496\n",
      "138 is Even number -- Square of 138 = 19044\n",
      "140 is Even number -- Square of 140 = 19600\n",
      "142 is Even number -- Square of 142 = 20164\n",
      "144 is Even number -- Square of 144 = 20736\n",
      "146 is Even number -- Square of 146 = 21316\n",
      "148 is Even number -- Square of 148 = 21904\n",
      "150 is Even number -- Square of 150 = 22500\n",
      "152 is Even number -- Square of 152 = 23104\n",
      "154 is Even number -- Square of 154 = 23716\n",
      "156 is Even number -- Square of 156 = 24336\n",
      "158 is Even number -- Square of 158 = 24964\n",
      "160 is Even number -- Square of 160 = 25600\n",
      "162 is Even number -- Square of 162 = 26244\n",
      "164 is Even number -- Square of 164 = 26896\n",
      "166 is Even number -- Square of 166 = 27556\n",
      "168 is Even number -- Square of 168 = 28224\n",
      "170 is Even number -- Square of 170 = 28900\n",
      "172 is Even number -- Square of 172 = 29584\n",
      "174 is Even number -- Square of 174 = 30276\n",
      "176 is Even number -- Square of 176 = 30976\n",
      "178 is Even number -- Square of 178 = 31684\n",
      "180 is Even number -- Square of 180 = 32400\n",
      "182 is Even number -- Square of 182 = 33124\n",
      "184 is Even number -- Square of 184 = 33856\n",
      "186 is Even number -- Square of 186 = 34596\n",
      "188 is Even number -- Square of 188 = 35344\n",
      "190 is Even number -- Square of 190 = 36100\n",
      "192 is Even number -- Square of 192 = 36864\n",
      "194 is Even number -- Square of 194 = 37636\n",
      "196 is Even number -- Square of 196 = 38416\n",
      "198 is Even number -- Square of 198 = 39204\n"
     ]
    }
   ],
   "source": [
    "for i in range (100, 200):                # keeping range from 100 to 200 and looping\n",
    "    n = i % 2                             # if number is divisible by 2  \n",
    "    if n == 0:                            # get divident zero then we call it as even number\n",
    "        a = i ** 2                        # Doing the square of even numbers\n",
    "        print(f'{i} is Even number -- Square of {i} = {a}')\n",
    "    #else:\n",
    "        #a = i ** 2                        # Doing the square of odd numbers\n",
    "        #print(f'{i} is Odd number \\n Square of {i} = {a}')\n"
   ]
  },
  {
   "cell_type": "markdown",
   "id": "9bfacea1-49d0-49b6-9eb8-052506d0e217",
   "metadata": {},
   "source": [
    "## Exercise 4: Word counter\n",
    "#### write a program to count the number of words in a given text.\n",
    "#### example:\n",
    "#### input_text = \"This is a sample text. This text will be used to demonstrate the word counter.\"\n",
    "#### Expected output:\n",
    "#### 'This': 2 \n",
    "#### 'is': 1\n",
    "#### 'a': 1\n",
    "#### 'sample': 1\n",
    "#### 'text.': 1\n"
   ]
  },
  {
   "cell_type": "code",
   "execution_count": 25,
   "id": "cccba9e9-de29-4ae3-8e6a-85ae9e277abc",
   "metadata": {},
   "outputs": [
    {
     "name": "stdout",
     "output_type": "stream",
     "text": [
      "This 2\n",
      "is 2\n",
      "a 3\n",
      "sample 1\n",
      "text. 1\n",
      "This 1\n",
      "text 1\n",
      "will 1\n",
      "be 1\n",
      "used 1\n",
      "to 1\n",
      "demonstrate 1\n",
      "the 1\n",
      "word 1\n",
      "counter. 1\n"
     ]
    },
    {
     "ename": "ValueError",
     "evalue": "substring not found",
     "output_type": "error",
     "traceback": [
      "\u001b[1;31m---------------------------------------------------------------------------\u001b[0m",
      "\u001b[1;31mValueError\u001b[0m                                Traceback (most recent call last)",
      "Cell \u001b[1;32mIn[25], line 10\u001b[0m\n\u001b[0;32m      8\u001b[0m d\u001b[38;5;241m=\u001b[39m\u001b[38;5;241m0\u001b[39m                         \u001b[38;5;66;03m# Checking the word start with zeroth index\u001b[39;00m\n\u001b[0;32m      9\u001b[0m n \u001b[38;5;241m=\u001b[39m c[d:l]\n\u001b[1;32m---> 10\u001b[0m b \u001b[38;5;241m=\u001b[39m \u001b[43mn\u001b[49m\u001b[38;5;241;43m.\u001b[39;49m\u001b[43mindex\u001b[49m\u001b[43m(\u001b[49m\u001b[38;5;124;43m'\u001b[39;49m\u001b[38;5;124;43m \u001b[39;49m\u001b[38;5;124;43m'\u001b[39;49m\u001b[43m)\u001b[49m            \u001b[38;5;66;03m# Checking the space between the 2 words\u001b[39;00m\n\u001b[0;32m     11\u001b[0m cnt \u001b[38;5;241m=\u001b[39m c[d:b]                \u001b[38;5;66;03m# calling the word before space \u001b[39;00m\n\u001b[0;32m     12\u001b[0m num \u001b[38;5;241m=\u001b[39m c\u001b[38;5;241m.\u001b[39mcount(cnt)          \u001b[38;5;66;03m# Counting the word in complete text\u001b[39;00m\n",
      "\u001b[1;31mValueError\u001b[0m: substring not found"
     ]
    }
   ],
   "source": [
    "Input_Text = '''This is a sample text. This text will be used to demonstrate the word counter. '''\n",
    "c = Input_Text                  # calling the text to c variable\n",
    "l = len(Input_Text)             # calling the length of the text into L variable\n",
    "i = 0\n",
    "d = 0\n",
    "while (i <= l):                 # loop still the last word\n",
    "    i = i+1\n",
    "    d=0                         # Checking the word start with zeroth index\n",
    "    n = c[d:l]\n",
    "    b = n.index(' ')            # Checking the space between the 2 words\n",
    "    cnt = c[d:b]                # calling the word before space \n",
    "    num = c.count(cnt)          # Counting the word in complete text\n",
    "    print(cnt,num)              # Printing the word and count\n",
    "    d = b+1                     # looping again\n",
    "    c = c[d:l]"
   ]
  },
  {
   "cell_type": "markdown",
   "id": "978c2cc8-d6d6-490d-94c0-047e46df7c69",
   "metadata": {},
   "source": [
    "## Exercise 5: Check for Palindrome\n",
    "#### Write a Python function called is_palindrome that takes a string as input and returns True if the string is a palindrome, and False otherwise. A palindrome is a word, phrase, number, or other sequence of characters that reads the same forward and backward, ignoring spaces, punctuation, and capitalization.\n",
    "#### Example:\n",
    "#### Input: \"racecar\"\n",
    "#### Expected Output: True\n"
   ]
  },
  {
   "cell_type": "code",
   "execution_count": 24,
   "id": "08f14164-0b54-46b1-b4ba-5e74a8ca6f53",
   "metadata": {},
   "outputs": [
    {
     "name": "stdin",
     "output_type": "stream",
     "text": [
      "Input : racecar\n"
     ]
    },
    {
     "name": "stdout",
     "output_type": "stream",
     "text": [
      "Reverse of Input : racecar \n",
      "Checking for the Input is Palindrome\n",
      "Expected Output: True\n"
     ]
    }
   ],
   "source": [
    "word = input(\"Input :\")               # Calling the input from the user\n",
    "length = len(word)                    # Calculating the length of the input given\n",
    "v = []                                # taken v as empty list\n",
    "while(length>0):                      # looping still the length got zero\n",
    "    length = length - 1\n",
    "    c = word[length]                  # Calling the reverse of word into c variable\n",
    "    v.append(c)                       # and adding one by one into v variable by using append function\n",
    "check = ''.join(map(str,v))           # Converting the list into string\n",
    "print(\"Reverse of Input :\",check,'\\nChecking for the Input is Palindrome')\n",
    "if word == check:                     # Checking the input is Pallindrome or not by using IF Condition\n",
    "    print(\"Expected Output:\", True)\n",
    "else:\n",
    "    print(False)"
   ]
  }
 ],
 "metadata": {
  "kernelspec": {
   "display_name": "Python 3 (ipykernel)",
   "language": "python",
   "name": "python3"
  },
  "language_info": {
   "codemirror_mode": {
    "name": "ipython",
    "version": 3
   },
   "file_extension": ".py",
   "mimetype": "text/x-python",
   "name": "python",
   "nbconvert_exporter": "python",
   "pygments_lexer": "ipython3",
   "version": "3.11.7"
  }
 },
 "nbformat": 4,
 "nbformat_minor": 5
}
